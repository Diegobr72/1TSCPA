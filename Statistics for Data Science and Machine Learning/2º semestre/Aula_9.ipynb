{
 "nbformat": 4,
 "nbformat_minor": 0,
 "metadata": {
  "colab": {
   "provenance": []
  },
  "kernelspec": {
   "name": "python3",
   "language": "python",
   "display_name": "Python 3 (ipykernel)"
  },
  "language_info": {
   "name": "python"
  }
 },
 "cells": [
  {
   "cell_type": "markdown",
   "source": [
    "# Estatística descritiva"
   ],
   "metadata": {
    "id": "e7ZWCT0pZfi4"
   }
  },
  {
   "cell_type": "markdown",
   "source": [
    "## Gerando dados aleatórios"
   ],
   "metadata": {
    "id": "xRLOcABkZOgg"
   }
  },
  {
   "cell_type": "code",
   "execution_count": 176,
   "metadata": {
    "colab": {
     "base_uri": "https://localhost:8080/"
    },
    "id": "rsRXYp7gYAfU",
    "outputId": "769d663b-c5d5-4bfd-c2be-d351f0f661d3",
    "ExecuteTime": {
     "end_time": "2024-03-25T14:12:16.698122Z",
     "start_time": "2024-03-25T14:12:16.674268Z"
    }
   },
   "outputs": [
    {
     "data": {
      "text/plain": "array([51, 92, 14, 71, 60, 20, 82, 86, 74, 74, 87, 99, 23,  2, 21, 52,  1,\n       87, 29, 37,  1, 63, 59, 20, 32, 75, 57, 21, 88, 48, 90, 58, 41, 91,\n       59, 79, 14, 61, 61, 46, 61, 50, 54, 63,  2, 50,  6, 20, 72, 38, 17,\n        3, 88, 59, 13,  8, 89, 52,  1, 83, 91, 59, 70, 43,  7, 46, 34, 77,\n       80, 35, 49,  3,  1,  5, 53,  3, 53, 92, 62, 17, 89, 43, 33, 73, 61,\n       99, 13, 94, 47, 14, 71, 77, 86, 61, 39, 84, 79, 81, 52, 23])"
     },
     "execution_count": 176,
     "metadata": {},
     "output_type": "execute_result"
    }
   ],
   "source": [
    "import numpy as np\n",
    "from scipy import stats\n",
    "\n",
    "#gerando um conjunto de dados aleatórios com 100 elementos\n",
    "np.random.seed(42) #Definindo a semente para reprodução dos resultados\n",
    "dados_aleatorios = np.random.randint(0, 100, size=100)\n",
    "dados_aleatorios"
   ]
  },
  {
   "cell_type": "markdown",
   "source": [
    "### Caculando a **Média**\n",
    "\n"
   ],
   "metadata": {
    "id": "OtkDEKVbZuiE"
   }
  },
  {
   "cell_type": "code",
   "source": [
    "media = np.mean(dados_aleatorios)\n",
    "print(f\"A média dos dados aleatórios é {media}.\")"
   ],
   "metadata": {
    "colab": {
     "base_uri": "https://localhost:8080/"
    },
    "id": "NaiJ_ZUzYzvO",
    "outputId": "d5c54172-39b3-40de-92ca-9fd86a73c52d",
    "ExecuteTime": {
     "end_time": "2024-03-25T14:12:17.440329Z",
     "start_time": "2024-03-25T14:12:17.393587Z"
    }
   },
   "execution_count": 177,
   "outputs": [
    {
     "name": "stdout",
     "output_type": "stream",
     "text": [
      "A média dos dados aleatórios é 50.54.\n"
     ]
    }
   ]
  },
  {
   "cell_type": "markdown",
   "source": [
    "### Encontrando o valor **Máximo** e o valor **Mínimo**"
   ],
   "metadata": {
    "id": "lXy2joUxZ93P"
   }
  },
  {
   "cell_type": "code",
   "source": [
    "maximo = np.max(dados_aleatorios)\n",
    "minimo = np.min(dados_aleatorios)\n",
    "print(f\"A Máxima é {maximo} e a minima é {minimo}.\")"
   ],
   "metadata": {
    "colab": {
     "base_uri": "https://localhost:8080/"
    },
    "id": "UuCBXMF_Z84j",
    "outputId": "39a1b2c5-02cc-4acf-8705-b8dd2aafdd42",
    "ExecuteTime": {
     "end_time": "2024-03-25T14:12:17.639616Z",
     "start_time": "2024-03-25T14:12:17.573257Z"
    }
   },
   "execution_count": 178,
   "outputs": [
    {
     "name": "stdout",
     "output_type": "stream",
     "text": [
      "A Máxima é 99 e a minima é 1.\n"
     ]
    }
   ]
  },
  {
   "cell_type": "markdown",
   "source": [
    "### Caculando a **mediana**\n"
   ],
   "metadata": {
    "id": "XjnZmmiZb5q7"
   }
  },
  {
   "cell_type": "code",
   "source": [
    "mediana = np.median(dados_aleatorios)\n",
    "print(f\"A mediana dos dados aleatórios é {mediana}.\")"
   ],
   "metadata": {
    "colab": {
     "base_uri": "https://localhost:8080/"
    },
    "id": "DtoqzJtsbcDa",
    "outputId": "f3a1518a-cb34-42f8-d42a-cf6e150f3e3e",
    "ExecuteTime": {
     "end_time": "2024-03-25T14:12:17.980073Z",
     "start_time": "2024-03-25T14:12:17.955120Z"
    }
   },
   "execution_count": 179,
   "outputs": [
    {
     "name": "stdout",
     "output_type": "stream",
     "text": [
      "A mediana dos dados aleatórios é 53.0.\n"
     ]
    }
   ]
  },
  {
   "cell_type": "markdown",
   "source": [
    "### Caculando a **Moda**\n"
   ],
   "metadata": {
    "id": "JJy9_wfrb-w8"
   }
  },
  {
   "cell_type": "code",
   "source": [
    "moda = stats.mode(dados_aleatorios)\n",
    "print(f\"A Moda dos dados aleatórios é {moda[0]}, ele aparece {moda[1]}.\")"
   ],
   "metadata": {
    "colab": {
     "base_uri": "https://localhost:8080/"
    },
    "id": "OFdSk64ccC1u",
    "outputId": "d0c3a98e-a720-4b9d-b0dd-f397bbdd7229",
    "ExecuteTime": {
     "end_time": "2024-03-25T14:12:18.438076Z",
     "start_time": "2024-03-25T14:12:18.385087Z"
    }
   },
   "execution_count": 180,
   "outputs": [
    {
     "name": "stdout",
     "output_type": "stream",
     "text": [
      "A Moda dos dados aleatórios é 61, ele aparece 5.\n"
     ]
    }
   ]
  },
  {
   "cell_type": "markdown",
   "source": [
    "## Calcular o Percentis"
   ],
   "metadata": {
    "id": "sKGjRk-OzS3H"
   }
  },
  {
   "cell_type": "code",
   "source": [
    "import numpy as np\n",
    "\n",
    "# Dados de exemplo\n",
    "dados = [10, 20, 30, 40, 50, 60]\n",
    "\n",
    "# Calculando percentis\n",
    "percentis = np.percentile(dados, [10, 20, 30, 40, 50, 60, 70, 80, 90])\n",
    "\n",
    "print(\"Percentis: \", percentis)"
   ],
   "metadata": {
    "colab": {
     "base_uri": "https://localhost:8080/"
    },
    "id": "a11au7R7zZlJ",
    "outputId": "c416ef8a-3237-4b38-f9c3-815f189b8777",
    "ExecuteTime": {
     "end_time": "2024-03-25T14:12:18.618650Z",
     "start_time": "2024-03-25T14:12:18.567340Z"
    }
   },
   "execution_count": 181,
   "outputs": [
    {
     "name": "stdout",
     "output_type": "stream",
     "text": [
      "Percentis:  [15. 20. 25. 30. 35. 40. 45. 50. 55.]\n"
     ]
    }
   ]
  },
  {
   "cell_type": "code",
   "source": [
    "percentis = np.percentile(dados, 0.35)\n",
    "\n",
    "print(\"Percentis: \", percentis)"
   ],
   "metadata": {
    "colab": {
     "base_uri": "https://localhost:8080/"
    },
    "id": "Oqv4YHDu0C1F",
    "outputId": "f80bf4fb-1cdd-4375-d79d-fb92cd82a228",
    "ExecuteTime": {
     "end_time": "2024-03-25T14:12:19.049609Z",
     "start_time": "2024-03-25T14:12:19.020010Z"
    }
   },
   "execution_count": 182,
   "outputs": [
    {
     "name": "stdout",
     "output_type": "stream",
     "text": [
      "Percentis:  10.175\n"
     ]
    }
   ]
  },
  {
   "cell_type": "markdown",
   "source": [
    "### Quartis"
   ],
   "metadata": {
    "id": "AIIqNDpG4SmB"
   }
  },
  {
   "cell_type": "code",
   "source": [
    "quartis = np.percentile(dados,[25,50,75]) #usamos valores entre 0 e 100\n",
    "\n",
    "print(\"Quartis: \", quartis)"
   ],
   "metadata": {
    "colab": {
     "base_uri": "https://localhost:8080/"
    },
    "id": "Sr0r8KzP0uIm",
    "outputId": "9aa986c8-4940-4fb2-8853-a8e5ec2cece0",
    "ExecuteTime": {
     "end_time": "2024-03-25T14:12:19.419988Z",
     "start_time": "2024-03-25T14:12:19.402327Z"
    }
   },
   "execution_count": 183,
   "outputs": [
    {
     "name": "stdout",
     "output_type": "stream",
     "text": [
      "Quartis:  [22.5 35.  47.5]\n"
     ]
    }
   ]
  },
  {
   "cell_type": "code",
   "source": [
    "idades = [20, 25, 30, 35, 40, 45, 50, 55, 60, 65]\n",
    "quartis_idades = np.quantile(idades, [0.25, 0.5, 0.75])#usamos valores entre 0 e 1\n",
    "print(\"Quartis de idade: \", quartis_idades)"
   ],
   "metadata": {
    "colab": {
     "base_uri": "https://localhost:8080/"
    },
    "id": "do3FKNXW45dB",
    "outputId": "3a6a011b-4c39-4631-c009-39881e16756b",
    "ExecuteTime": {
     "end_time": "2024-03-25T14:12:19.608879Z",
     "start_time": "2024-03-25T14:12:19.590962Z"
    }
   },
   "execution_count": 184,
   "outputs": [
    {
     "name": "stdout",
     "output_type": "stream",
     "text": [
      "Quartis de idade:  [31.25 42.5  53.75]\n"
     ]
    }
   ]
  },
  {
   "cell_type": "markdown",
   "source": [
    "### Calculando a Variancia"
   ],
   "metadata": {
    "collapsed": false
   }
  },
  {
   "cell_type": "code",
   "outputs": [],
   "source": [
    "variancia = np.var(dados_aleatorios)"
   ],
   "metadata": {
    "collapsed": false,
    "ExecuteTime": {
     "end_time": "2024-03-25T14:12:19.868762Z",
     "start_time": "2024-03-25T14:12:19.858067Z"
    }
   },
   "execution_count": 185
  },
  {
   "cell_type": "markdown",
   "source": [
    "### Calculando a **Desvio Padão**"
   ],
   "metadata": {
    "collapsed": false
   }
  },
  {
   "cell_type": "code",
   "outputs": [],
   "source": [
    "desvio_padrao = np.std(dados_aleatorios)"
   ],
   "metadata": {
    "collapsed": false,
    "ExecuteTime": {
     "end_time": "2024-03-25T14:12:20.213529Z",
     "start_time": "2024-03-25T14:12:20.203340Z"
    }
   },
   "execution_count": 186
  },
  {
   "cell_type": "markdown",
   "source": [
    "### Calculando a **Desvio Medio Absoluto**"
   ],
   "metadata": {
    "collapsed": false
   }
  },
  {
   "cell_type": "code",
   "outputs": [],
   "source": [
    "desvio_medio_absoluto = np.mean(np.abs(dados_aleatorios - media))"
   ],
   "metadata": {
    "collapsed": false,
    "ExecuteTime": {
     "end_time": "2024-03-25T14:12:20.447662Z",
     "start_time": "2024-03-25T14:12:20.436266Z"
    }
   },
   "execution_count": 187
  },
  {
   "cell_type": "code",
   "outputs": [
    {
     "name": "stdout",
     "output_type": "stream",
     "text": [
      "Média: 50.54\n",
      "Mediana: 53.0\n",
      "Máximo: 99\n",
      "Mínimo: 1\n",
      "Variância: 857.2284\n",
      "Desvio Padrão: 29.278463074417004\n",
      "Desvio Absoluto Médio: 24.826\n"
     ]
    }
   ],
   "source": [
    "# Imprimindo as estatísticas\n",
    "print(\"Média:\", media)\n",
    "print(\"Mediana:\", mediana)\n",
    "print(\"Máximo:\", maximo)\n",
    "print(\"Mínimo:\", minimo)\n",
    "print(\"Variância:\", variancia)\n",
    "print(\"Desvio Padrão:\", desvio_padrao)\n",
    "print(\"Desvio Absoluto Médio:\", desvio_medio_absoluto)"
   ],
   "metadata": {
    "collapsed": false,
    "ExecuteTime": {
     "end_time": "2024-03-25T14:12:20.632479Z",
     "start_time": "2024-03-25T14:12:20.613362Z"
    }
   },
   "execution_count": 188
  },
  {
   "cell_type": "markdown",
   "source": [
    "### Desvio médio"
   ],
   "metadata": {
    "collapsed": false
   }
  },
  {
   "cell_type": "code",
   "outputs": [
    {
     "name": "stdout",
     "output_type": "stream",
     "text": [
      "Média:  5.0\n",
      "Desvio:  [-4. -3. -2. -1.  0.  1.  2.  3.  4.]\n",
      "Desvio médio: 0.0\n"
     ]
    }
   ],
   "source": [
    "dados = np.array([1,2,3,4,5,6,7,8,9])\n",
    "\n",
    "media = np.mean(dados)\n",
    "desvio = dados - media\n",
    "desvio_medio = np.mean(desvio)\n",
    "print(\"Média: \", media)\n",
    "print(\"Desvio: \", desvio)\n",
    "print(\"Desvio médio:\", desvio_medio)"
   ],
   "metadata": {
    "collapsed": false,
    "ExecuteTime": {
     "end_time": "2024-03-25T14:12:20.689746Z",
     "start_time": "2024-03-25T14:12:20.666481Z"
    }
   },
   "execution_count": 189
  },
  {
   "cell_type": "code",
   "outputs": [
    {
     "name": "stdout",
     "output_type": "stream",
     "text": [
      "Dados:  [17.83766633 14.04672548 27.13480416  7.04621125 40.10984904  3.72753218\n",
      " 49.34434683 38.61223846  9.93578408  0.27610586]\n"
     ]
    }
   ],
   "source": [
    "#gerando números aleatórios para nosso exemplo\n",
    "dados = np.random.uniform(low=0, high=50, size=10)\n",
    "print(\"Dados: \", dados)"
   ],
   "metadata": {
    "collapsed": false,
    "ExecuteTime": {
     "end_time": "2024-03-25T14:12:20.791552Z",
     "start_time": "2024-03-25T14:12:20.774263Z"
    }
   },
   "execution_count": 190
  },
  {
   "cell_type": "code",
   "outputs": [
    {
     "name": "stdout",
     "output_type": "stream",
     "text": [
      "Média:  20.807126367513707\n",
      "Desvio:  [ -2.96946003  -6.76040088   6.32767779 -13.76091512  19.30272267\n",
      " -17.07959418  28.53722046  17.8051121  -10.87134229 -20.53102051]\n",
      "Desvio médio: -7.105427357601002e-16\n"
     ]
    }
   ],
   "source": [
    "media = np.mean(dados)\n",
    "print(\"Média: \", media)\n",
    "desvio = dados - media\n",
    "print(\"Desvio: \", desvio)\n",
    "desvio_medio = np.mean(desvio)\n",
    "print(\"Desvio médio:\", desvio_medio)"
   ],
   "metadata": {
    "collapsed": false,
    "ExecuteTime": {
     "end_time": "2024-03-25T14:12:21.087636Z",
     "start_time": "2024-03-25T14:12:21.067821Z"
    }
   },
   "execution_count": 191
  },
  {
   "cell_type": "code",
   "outputs": [
    {
     "name": "stdout",
     "output_type": "stream",
     "text": [
      "[40.77307142 35.34286719 36.4503584  38.56351733  3.70223259 17.92328643\n",
      "  5.79345298 43.15517129 31.16490634 16.54490124]\n",
      "Desvio médio absoluto: 12.760326570993291\n"
     ]
    }
   ],
   "source": [
    "dados = np.random.uniform(low=0, high=50, size=10)\n",
    " \n",
    "print(dados)\n",
    " \n",
    "media = np.mean(dados)\n",
    "desvio_medio_absoluto = np.mean(np.abs(dados - media))\n",
    "\n",
    "print(\"Desvio médio absoluto:\", desvio_medio_absoluto)"
   ],
   "metadata": {
    "collapsed": false,
    "ExecuteTime": {
     "end_time": "2024-03-25T14:12:37.062589Z",
     "start_time": "2024-03-25T14:12:37.045455Z"
    }
   },
   "execution_count": 194
  },
  {
   "cell_type": "code",
   "outputs": [],
   "source": [],
   "metadata": {
    "collapsed": false,
    "ExecuteTime": {
     "end_time": "2024-03-25T14:12:21.431646Z",
     "start_time": "2024-03-25T14:12:21.423040Z"
    }
   },
   "execution_count": 192
  }
 ]
}
