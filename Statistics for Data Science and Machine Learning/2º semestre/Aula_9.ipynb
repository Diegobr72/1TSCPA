{
 "nbformat": 4,
 "nbformat_minor": 0,
 "metadata": {
  "colab": {
   "provenance": []
  },
  "kernelspec": {
   "name": "python3",
   "language": "python",
   "display_name": "Python 3 (ipykernel)"
  },
  "language_info": {
   "name": "python"
  }
 },
 "cells": [
  {
   "cell_type": "markdown",
   "source": [
    "# Estatística descritiva"
   ],
   "metadata": {
    "id": "e7ZWCT0pZfi4"
   }
  },
  {
   "cell_type": "markdown",
   "source": [
    "## Gerando dados aleatórios"
   ],
   "metadata": {
    "id": "xRLOcABkZOgg"
   }
  },
  {
   "cell_type": "code",
   "execution_count": 191,
   "metadata": {
    "colab": {
     "base_uri": "https://localhost:8080/"
    },
    "id": "rsRXYp7gYAfU",
    "outputId": "769d663b-c5d5-4bfd-c2be-d351f0f661d3",
    "ExecuteTime": {
     "end_time": "2024-03-25T22:29:25.060100Z",
     "start_time": "2024-03-25T22:29:25.047022Z"
    }
   },
   "outputs": [
    {
     "data": {
      "text/plain": "array([51, 92, 14, 71, 60, 20, 82, 86, 74, 74, 87, 99, 23,  2, 21, 52,  1,\n       87, 29, 37,  1, 63, 59, 20, 32, 75, 57, 21, 88, 48, 90, 58, 41, 91,\n       59, 79, 14, 61, 61, 46, 61, 50, 54, 63,  2, 50,  6, 20, 72, 38, 17,\n        3, 88, 59, 13,  8, 89, 52,  1, 83, 91, 59, 70, 43,  7, 46, 34, 77,\n       80, 35, 49,  3,  1,  5, 53,  3, 53, 92, 62, 17, 89, 43, 33, 73, 61,\n       99, 13, 94, 47, 14, 71, 77, 86, 61, 39, 84, 79, 81, 52, 23])"
     },
     "execution_count": 191,
     "metadata": {},
     "output_type": "execute_result"
    }
   ],
   "source": [
    "import numpy as np\n",
    "from scipy import stats\n",
    "\n",
    "#gerando um conjunto de dados aleatórios com 100 elementos\n",
    "np.random.seed(42) #Definindo a semente para reprodução dos resultados\n",
    "dados_aleatorios = np.random.randint(0, 100, size=100)\n",
    "dados_aleatorios"
   ]
  },
  {
   "cell_type": "markdown",
   "source": [
    "### Caculando a **Média**\n",
    "\n"
   ],
   "metadata": {
    "id": "OtkDEKVbZuiE"
   }
  },
  {
   "cell_type": "code",
   "source": [
    "media = np.mean(dados_aleatorios)\n",
    "print(f\"A média dos dados aleatórios é {media}.\")"
   ],
   "metadata": {
    "colab": {
     "base_uri": "https://localhost:8080/"
    },
    "id": "NaiJ_ZUzYzvO",
    "outputId": "d5c54172-39b3-40de-92ca-9fd86a73c52d",
    "ExecuteTime": {
     "end_time": "2024-03-25T22:29:25.451443Z",
     "start_time": "2024-03-25T22:29:25.439323Z"
    }
   },
   "execution_count": 192,
   "outputs": [
    {
     "name": "stdout",
     "output_type": "stream",
     "text": [
      "A média dos dados aleatórios é 50.54.\n"
     ]
    }
   ]
  },
  {
   "cell_type": "markdown",
   "source": [
    "### Encontrando o valor **Máximo** e o valor **Mínimo**"
   ],
   "metadata": {
    "id": "lXy2joUxZ93P"
   }
  },
  {
   "cell_type": "code",
   "source": [
    "maximo = np.max(dados_aleatorios)\n",
    "minimo = np.min(dados_aleatorios)\n",
    "print(f\"A Máxima é {maximo} e a minima é {minimo}.\")"
   ],
   "metadata": {
    "colab": {
     "base_uri": "https://localhost:8080/"
    },
    "id": "UuCBXMF_Z84j",
    "outputId": "39a1b2c5-02cc-4acf-8705-b8dd2aafdd42",
    "ExecuteTime": {
     "end_time": "2024-03-25T22:29:25.498938Z",
     "start_time": "2024-03-25T22:29:25.485339Z"
    }
   },
   "execution_count": 193,
   "outputs": [
    {
     "name": "stdout",
     "output_type": "stream",
     "text": [
      "A Máxima é 99 e a minima é 1.\n"
     ]
    }
   ]
  },
  {
   "cell_type": "markdown",
   "source": [
    "### Caculando a **mediana**\n"
   ],
   "metadata": {
    "id": "XjnZmmiZb5q7"
   }
  },
  {
   "cell_type": "code",
   "source": [
    "mediana = np.median(dados_aleatorios)\n",
    "print(f\"A mediana dos dados aleatórios é {mediana}.\")"
   ],
   "metadata": {
    "colab": {
     "base_uri": "https://localhost:8080/"
    },
    "id": "DtoqzJtsbcDa",
    "outputId": "f3a1518a-cb34-42f8-d42a-cf6e150f3e3e",
    "ExecuteTime": {
     "end_time": "2024-03-25T22:29:25.600099Z",
     "start_time": "2024-03-25T22:29:25.591767Z"
    }
   },
   "execution_count": 194,
   "outputs": [
    {
     "name": "stdout",
     "output_type": "stream",
     "text": [
      "A mediana dos dados aleatórios é 53.0.\n"
     ]
    }
   ]
  },
  {
   "cell_type": "markdown",
   "source": [
    "### Caculando a **Moda**\n"
   ],
   "metadata": {
    "id": "JJy9_wfrb-w8"
   }
  },
  {
   "cell_type": "code",
   "source": [
    "moda = stats.mode(dados_aleatorios)\n",
    "print(f\"A Moda dos dados aleatórios é {moda[0]}, ele aparece {moda[1]}.\")"
   ],
   "metadata": {
    "colab": {
     "base_uri": "https://localhost:8080/"
    },
    "id": "OFdSk64ccC1u",
    "outputId": "d0c3a98e-a720-4b9d-b0dd-f397bbdd7229",
    "ExecuteTime": {
     "end_time": "2024-03-25T22:29:25.666593Z",
     "start_time": "2024-03-25T22:29:25.657433Z"
    }
   },
   "execution_count": 195,
   "outputs": [
    {
     "name": "stdout",
     "output_type": "stream",
     "text": [
      "A Moda dos dados aleatórios é 61, ele aparece 5.\n"
     ]
    }
   ]
  },
  {
   "cell_type": "markdown",
   "source": [
    "## Calcular o Percentis"
   ],
   "metadata": {
    "id": "sKGjRk-OzS3H"
   }
  },
  {
   "cell_type": "code",
   "source": [
    "import numpy as np\n",
    "\n",
    "# Dados de exemplo\n",
    "dados = [10, 20, 30, 40, 50, 60]\n",
    "\n",
    "# Calculando percentis\n",
    "percentis = np.percentile(dados, [10, 20, 30, 40, 50, 60, 70, 80, 90])\n",
    "\n",
    "print(\"Percentis: \", percentis)"
   ],
   "metadata": {
    "colab": {
     "base_uri": "https://localhost:8080/"
    },
    "id": "a11au7R7zZlJ",
    "outputId": "c416ef8a-3237-4b38-f9c3-815f189b8777",
    "ExecuteTime": {
     "end_time": "2024-03-25T22:29:25.795875Z",
     "start_time": "2024-03-25T22:29:25.781328Z"
    }
   },
   "execution_count": 196,
   "outputs": [
    {
     "name": "stdout",
     "output_type": "stream",
     "text": [
      "Percentis:  [15. 20. 25. 30. 35. 40. 45. 50. 55.]\n"
     ]
    }
   ]
  },
  {
   "cell_type": "code",
   "source": [
    "percentis = np.percentile(dados, 0.35)\n",
    "\n",
    "print(\"Percentis: \", percentis)"
   ],
   "metadata": {
    "colab": {
     "base_uri": "https://localhost:8080/"
    },
    "id": "Oqv4YHDu0C1F",
    "outputId": "f80bf4fb-1cdd-4375-d79d-fb92cd82a228",
    "ExecuteTime": {
     "end_time": "2024-03-25T22:29:25.861603Z",
     "start_time": "2024-03-25T22:29:25.852254Z"
    }
   },
   "execution_count": 197,
   "outputs": [
    {
     "name": "stdout",
     "output_type": "stream",
     "text": [
      "Percentis:  10.175\n"
     ]
    }
   ]
  },
  {
   "cell_type": "markdown",
   "source": [
    "### Quartis"
   ],
   "metadata": {
    "id": "AIIqNDpG4SmB"
   }
  },
  {
   "cell_type": "code",
   "source": [
    "quartis = np.percentile(dados,[25,50,75]) #usamos valores entre 0 e 100\n",
    "\n",
    "print(\"Quartis: \", quartis)"
   ],
   "metadata": {
    "colab": {
     "base_uri": "https://localhost:8080/"
    },
    "id": "Sr0r8KzP0uIm",
    "outputId": "9aa986c8-4940-4fb2-8853-a8e5ec2cece0",
    "ExecuteTime": {
     "end_time": "2024-03-25T22:29:25.987539Z",
     "start_time": "2024-03-25T22:29:25.976601Z"
    }
   },
   "execution_count": 198,
   "outputs": [
    {
     "name": "stdout",
     "output_type": "stream",
     "text": [
      "Quartis:  [22.5 35.  47.5]\n"
     ]
    }
   ]
  },
  {
   "cell_type": "code",
   "source": [
    "idades = [20, 25, 30, 35, 40, 45, 50, 55, 60, 65]\n",
    "quartis_idades = np.quantile(idades, [0.25, 0.5, 0.75])#usamos valores entre 0 e 1\n",
    "print(\"Quartis de idade: \", quartis_idades)"
   ],
   "metadata": {
    "colab": {
     "base_uri": "https://localhost:8080/"
    },
    "id": "do3FKNXW45dB",
    "outputId": "3a6a011b-4c39-4631-c009-39881e16756b",
    "ExecuteTime": {
     "end_time": "2024-03-25T22:29:26.039861Z",
     "start_time": "2024-03-25T22:29:26.005880Z"
    }
   },
   "execution_count": 199,
   "outputs": [
    {
     "name": "stdout",
     "output_type": "stream",
     "text": [
      "Quartis de idade:  [31.25 42.5  53.75]\n"
     ]
    }
   ]
  },
  {
   "cell_type": "markdown",
   "source": [
    "### Calculando a Variancia"
   ],
   "metadata": {
    "collapsed": false
   }
  },
  {
   "cell_type": "code",
   "outputs": [],
   "source": [
    "variancia = np.var(dados_aleatorios)"
   ],
   "metadata": {
    "collapsed": false,
    "ExecuteTime": {
     "end_time": "2024-03-25T22:29:26.106259Z",
     "start_time": "2024-03-25T22:29:26.098601Z"
    }
   },
   "execution_count": 200
  },
  {
   "cell_type": "markdown",
   "source": [
    "### Calculando a **Desvio Padão**"
   ],
   "metadata": {
    "collapsed": false
   }
  },
  {
   "cell_type": "code",
   "outputs": [],
   "source": [
    "desvio_padrao = np.std(dados_aleatorios)"
   ],
   "metadata": {
    "collapsed": false,
    "ExecuteTime": {
     "end_time": "2024-03-25T22:29:26.196477Z",
     "start_time": "2024-03-25T22:29:26.190626Z"
    }
   },
   "execution_count": 201
  },
  {
   "cell_type": "markdown",
   "source": [
    "### Calculando a **Desvio Medio Absoluto**"
   ],
   "metadata": {
    "collapsed": false
   }
  },
  {
   "cell_type": "code",
   "outputs": [],
   "source": [
    "desvio_medio_absoluto = np.mean(np.abs(dados_aleatorios - media))"
   ],
   "metadata": {
    "collapsed": false,
    "ExecuteTime": {
     "end_time": "2024-03-25T22:29:26.321157Z",
     "start_time": "2024-03-25T22:29:26.314085Z"
    }
   },
   "execution_count": 202
  },
  {
   "cell_type": "code",
   "outputs": [
    {
     "name": "stdout",
     "output_type": "stream",
     "text": [
      "Média: 50.54\n",
      "Mediana: 53.0\n",
      "Máximo: 99\n",
      "Mínimo: 1\n",
      "Variância: 857.2284\n",
      "Desvio Padrão: 29.278463074417004\n",
      "Desvio Absoluto Médio: 24.826\n"
     ]
    }
   ],
   "source": [
    "# Imprimindo as estatísticas\n",
    "print(\"Média:\", media)\n",
    "print(\"Mediana:\", mediana)\n",
    "print(\"Máximo:\", maximo)\n",
    "print(\"Mínimo:\", minimo)\n",
    "print(\"Variância:\", variancia)\n",
    "print(\"Desvio Padrão:\", desvio_padrao)\n",
    "print(\"Desvio Absoluto Médio:\", desvio_medio_absoluto)"
   ],
   "metadata": {
    "collapsed": false,
    "ExecuteTime": {
     "end_time": "2024-03-25T22:29:26.390780Z",
     "start_time": "2024-03-25T22:29:26.376661Z"
    }
   },
   "execution_count": 203
  },
  {
   "cell_type": "markdown",
   "source": [
    "### Desvio médio"
   ],
   "metadata": {
    "collapsed": false
   }
  },
  {
   "cell_type": "code",
   "outputs": [
    {
     "name": "stdout",
     "output_type": "stream",
     "text": [
      "Média:  5.0\n",
      "Desvio:  [-4. -3. -2. -1.  0.  1.  2.  3.  4.]\n",
      "Desvio médio: 0.0\n"
     ]
    }
   ],
   "source": [
    "dados = np.array([1,2,3,4,5,6,7,8,9])\n",
    "\n",
    "media = np.mean(dados)\n",
    "desvio = dados - media\n",
    "desvio_medio = np.mean(desvio)\n",
    "print(\"Média: \", media)\n",
    "print(\"Desvio: \", desvio)\n",
    "print(\"Desvio médio:\", desvio_medio)"
   ],
   "metadata": {
    "collapsed": false,
    "ExecuteTime": {
     "end_time": "2024-03-25T22:29:26.439241Z",
     "start_time": "2024-03-25T22:29:26.430188Z"
    }
   },
   "execution_count": 204
  },
  {
   "cell_type": "code",
   "outputs": [
    {
     "name": "stdout",
     "output_type": "stream",
     "text": [
      "Dados:  [17.83766633 14.04672548 27.13480416  7.04621125 40.10984904  3.72753218\n",
      " 49.34434683 38.61223846  9.93578408  0.27610586]\n"
     ]
    }
   ],
   "source": [
    "#gerando números aleatórios para nosso exemplo\n",
    "dados = np.random.uniform(low=0, high=50, size=10)\n",
    "print(\"Dados: \", dados)"
   ],
   "metadata": {
    "collapsed": false,
    "ExecuteTime": {
     "end_time": "2024-03-25T22:29:26.501050Z",
     "start_time": "2024-03-25T22:29:26.489469Z"
    }
   },
   "execution_count": 205
  },
  {
   "cell_type": "code",
   "outputs": [
    {
     "name": "stdout",
     "output_type": "stream",
     "text": [
      "Média:  20.807126367513707\n",
      "Desvio:  [ -2.96946003  -6.76040088   6.32767779 -13.76091512  19.30272267\n",
      " -17.07959418  28.53722046  17.8051121  -10.87134229 -20.53102051]\n",
      "Desvio médio: -7.105427357601002e-16\n"
     ]
    }
   ],
   "source": [
    "media = np.mean(dados)\n",
    "print(\"Média: \", media)\n",
    "desvio = dados - media\n",
    "print(\"Desvio: \", desvio)\n",
    "desvio_medio = np.mean(desvio)\n",
    "print(\"Desvio médio:\", desvio_medio)"
   ],
   "metadata": {
    "collapsed": false,
    "ExecuteTime": {
     "end_time": "2024-03-25T22:29:26.638662Z",
     "start_time": "2024-03-25T22:29:26.626854Z"
    }
   },
   "execution_count": 206
  },
  {
   "cell_type": "code",
   "outputs": [
    {
     "name": "stdout",
     "output_type": "stream",
     "text": [
      "[40.77307142 35.34286719 36.4503584  38.56351733  3.70223259 17.92328643\n",
      "  5.79345298 43.15517129 31.16490634 16.54490124]\n",
      "Desvio médio absoluto: 12.760326570993291\n"
     ]
    }
   ],
   "source": [
    "dados = np.random.uniform(low=0, high=50, size=10)\n",
    " \n",
    "print(dados)\n",
    " \n",
    "media = np.mean(dados)\n",
    "desvio_medio_absoluto = np.mean(np.abs(dados - media))\n",
    "\n",
    "print(\"Desvio médio absoluto:\", desvio_medio_absoluto)"
   ],
   "metadata": {
    "collapsed": false,
    "ExecuteTime": {
     "end_time": "2024-03-25T22:29:26.686745Z",
     "start_time": "2024-03-25T22:29:26.673239Z"
    }
   },
   "execution_count": 207
  },
  {
   "cell_type": "code",
   "outputs": [
    {
     "data": {
      "text/plain": "              pais   ano     idh  corrupcao_indice  competitividade_indice  \\\n0    África do Sul  1997  0.6328                56                   44.54   \n1    África do Sul  1998  0.6272                57                   31.11   \n2    África do Sul  1999  0.6216                50                   43.90   \n3    África do Sul  2000  0.6160                52                   51.52   \n4    África do Sul  2001  0.6126                50                   45.12   \n..             ...   ...     ...               ...                     ...   \n280    Reino Unido  2007  0.8560                86                   75.45   \n281    Reino Unido  2008  0.8600                86                   71.90   \n282    Reino Unido  2009  0.8600                84                   76.07   \n283    Reino Unido  2010  0.8620                77                   76.81   \n284    Reino Unido  2011  0.8630                77                   80.28   \n\n     globalizacao_indice           pib    populacao  \n0               52.60298  1.488142e+08  43353.63200  \n1               54.51911  1.342956e+08  43961.92400  \n2               61.04379  1.331836e+08  44526.27200  \n3               62.47182  1.328776e+08  45064.09800  \n4               62.04144  1.184790e+08  45576.21500  \n..                   ...           ...          ...  \n280             82.12010  1.448770e+06  61337.36992  \n281             81.67998  1.447825e+06  61731.27576  \n282             79.31000  1.377247e+06  62086.03336  \n283             80.18000  1.395893e+06  62438.13815  \n284             81.68000  1.500045e+06  62262.00000  \n\n[285 rows x 8 columns]",
      "text/html": "<div>\n<style scoped>\n    .dataframe tbody tr th:only-of-type {\n        vertical-align: middle;\n    }\n\n    .dataframe tbody tr th {\n        vertical-align: top;\n    }\n\n    .dataframe thead th {\n        text-align: right;\n    }\n</style>\n<table border=\"1\" class=\"dataframe\">\n  <thead>\n    <tr style=\"text-align: right;\">\n      <th></th>\n      <th>pais</th>\n      <th>ano</th>\n      <th>idh</th>\n      <th>corrupcao_indice</th>\n      <th>competitividade_indice</th>\n      <th>globalizacao_indice</th>\n      <th>pib</th>\n      <th>populacao</th>\n    </tr>\n  </thead>\n  <tbody>\n    <tr>\n      <th>0</th>\n      <td>África do Sul</td>\n      <td>1997</td>\n      <td>0.6328</td>\n      <td>56</td>\n      <td>44.54</td>\n      <td>52.60298</td>\n      <td>1.488142e+08</td>\n      <td>43353.63200</td>\n    </tr>\n    <tr>\n      <th>1</th>\n      <td>África do Sul</td>\n      <td>1998</td>\n      <td>0.6272</td>\n      <td>57</td>\n      <td>31.11</td>\n      <td>54.51911</td>\n      <td>1.342956e+08</td>\n      <td>43961.92400</td>\n    </tr>\n    <tr>\n      <th>2</th>\n      <td>África do Sul</td>\n      <td>1999</td>\n      <td>0.6216</td>\n      <td>50</td>\n      <td>43.90</td>\n      <td>61.04379</td>\n      <td>1.331836e+08</td>\n      <td>44526.27200</td>\n    </tr>\n    <tr>\n      <th>3</th>\n      <td>África do Sul</td>\n      <td>2000</td>\n      <td>0.6160</td>\n      <td>52</td>\n      <td>51.52</td>\n      <td>62.47182</td>\n      <td>1.328776e+08</td>\n      <td>45064.09800</td>\n    </tr>\n    <tr>\n      <th>4</th>\n      <td>África do Sul</td>\n      <td>2001</td>\n      <td>0.6126</td>\n      <td>50</td>\n      <td>45.12</td>\n      <td>62.04144</td>\n      <td>1.184790e+08</td>\n      <td>45576.21500</td>\n    </tr>\n    <tr>\n      <th>...</th>\n      <td>...</td>\n      <td>...</td>\n      <td>...</td>\n      <td>...</td>\n      <td>...</td>\n      <td>...</td>\n      <td>...</td>\n      <td>...</td>\n    </tr>\n    <tr>\n      <th>280</th>\n      <td>Reino Unido</td>\n      <td>2007</td>\n      <td>0.8560</td>\n      <td>86</td>\n      <td>75.45</td>\n      <td>82.12010</td>\n      <td>1.448770e+06</td>\n      <td>61337.36992</td>\n    </tr>\n    <tr>\n      <th>281</th>\n      <td>Reino Unido</td>\n      <td>2008</td>\n      <td>0.8600</td>\n      <td>86</td>\n      <td>71.90</td>\n      <td>81.67998</td>\n      <td>1.447825e+06</td>\n      <td>61731.27576</td>\n    </tr>\n    <tr>\n      <th>282</th>\n      <td>Reino Unido</td>\n      <td>2009</td>\n      <td>0.8600</td>\n      <td>84</td>\n      <td>76.07</td>\n      <td>79.31000</td>\n      <td>1.377247e+06</td>\n      <td>62086.03336</td>\n    </tr>\n    <tr>\n      <th>283</th>\n      <td>Reino Unido</td>\n      <td>2010</td>\n      <td>0.8620</td>\n      <td>77</td>\n      <td>76.81</td>\n      <td>80.18000</td>\n      <td>1.395893e+06</td>\n      <td>62438.13815</td>\n    </tr>\n    <tr>\n      <th>284</th>\n      <td>Reino Unido</td>\n      <td>2011</td>\n      <td>0.8630</td>\n      <td>77</td>\n      <td>80.28</td>\n      <td>81.68000</td>\n      <td>1.500045e+06</td>\n      <td>62262.00000</td>\n    </tr>\n  </tbody>\n</table>\n<p>285 rows × 8 columns</p>\n</div>"
     },
     "execution_count": 208,
     "metadata": {},
     "output_type": "execute_result"
    }
   ],
   "source": [
    "import pandas as pd\n",
    "\n",
    "df =pd.read_csv('aula03_04_dataset_dados_1997_2011_paises.csv',\n",
    "                              sep = ';',\n",
    "                              encoding='latin1',\n",
    "                              decimal=',')\n",
    "df"
   ],
   "metadata": {
    "collapsed": false,
    "ExecuteTime": {
     "end_time": "2024-03-25T22:29:26.805661Z",
     "start_time": "2024-03-25T22:29:26.762906Z"
    }
   },
   "execution_count": 208
  },
  {
   "cell_type": "code",
   "outputs": [
    {
     "data": {
      "text/plain": "              pais  min_idh  max_idh  media_idh\n0         Alemanha   0.8466   0.9050   0.882880\n1        Austrália   0.8958   0.9290   0.914507\n2           Brasil   0.6464   0.7180   0.684653\n3          Bélgica   0.8628   0.8860   0.876107\n4           Canadá   0.8736   0.9080   0.890480\n5            China   0.5598   0.6870   0.625240\n6        Cingapura   0.7404   0.8660   0.821587\n7           Coréia   0.8078   0.8970   0.856907\n8          Espanha   0.8162   0.8780   0.852427\n9   Estados Unidos   0.8886   0.9130   0.900947\n10          França   0.8298   0.8840   0.861773\n11         Holanda   0.8724   0.9100   0.891320\n12          Itália   0.8070   0.8740   0.848000\n13           Japão   0.8572   0.9010   0.881360\n14          México   0.6916   0.7700   0.736080\n15     Reino Unido   0.8228   0.8630   0.846440\n16          Rússia   0.6814   0.7550   0.718520\n17   África do Sul   0.5990   0.6328   0.612240\n18           Índia   0.4466   0.5470   0.495680",
      "text/html": "<div>\n<style scoped>\n    .dataframe tbody tr th:only-of-type {\n        vertical-align: middle;\n    }\n\n    .dataframe tbody tr th {\n        vertical-align: top;\n    }\n\n    .dataframe thead th {\n        text-align: right;\n    }\n</style>\n<table border=\"1\" class=\"dataframe\">\n  <thead>\n    <tr style=\"text-align: right;\">\n      <th></th>\n      <th>pais</th>\n      <th>min_idh</th>\n      <th>max_idh</th>\n      <th>media_idh</th>\n    </tr>\n  </thead>\n  <tbody>\n    <tr>\n      <th>0</th>\n      <td>Alemanha</td>\n      <td>0.8466</td>\n      <td>0.9050</td>\n      <td>0.882880</td>\n    </tr>\n    <tr>\n      <th>1</th>\n      <td>Austrália</td>\n      <td>0.8958</td>\n      <td>0.9290</td>\n      <td>0.914507</td>\n    </tr>\n    <tr>\n      <th>2</th>\n      <td>Brasil</td>\n      <td>0.6464</td>\n      <td>0.7180</td>\n      <td>0.684653</td>\n    </tr>\n    <tr>\n      <th>3</th>\n      <td>Bélgica</td>\n      <td>0.8628</td>\n      <td>0.8860</td>\n      <td>0.876107</td>\n    </tr>\n    <tr>\n      <th>4</th>\n      <td>Canadá</td>\n      <td>0.8736</td>\n      <td>0.9080</td>\n      <td>0.890480</td>\n    </tr>\n    <tr>\n      <th>5</th>\n      <td>China</td>\n      <td>0.5598</td>\n      <td>0.6870</td>\n      <td>0.625240</td>\n    </tr>\n    <tr>\n      <th>6</th>\n      <td>Cingapura</td>\n      <td>0.7404</td>\n      <td>0.8660</td>\n      <td>0.821587</td>\n    </tr>\n    <tr>\n      <th>7</th>\n      <td>Coréia</td>\n      <td>0.8078</td>\n      <td>0.8970</td>\n      <td>0.856907</td>\n    </tr>\n    <tr>\n      <th>8</th>\n      <td>Espanha</td>\n      <td>0.8162</td>\n      <td>0.8780</td>\n      <td>0.852427</td>\n    </tr>\n    <tr>\n      <th>9</th>\n      <td>Estados Unidos</td>\n      <td>0.8886</td>\n      <td>0.9130</td>\n      <td>0.900947</td>\n    </tr>\n    <tr>\n      <th>10</th>\n      <td>França</td>\n      <td>0.8298</td>\n      <td>0.8840</td>\n      <td>0.861773</td>\n    </tr>\n    <tr>\n      <th>11</th>\n      <td>Holanda</td>\n      <td>0.8724</td>\n      <td>0.9100</td>\n      <td>0.891320</td>\n    </tr>\n    <tr>\n      <th>12</th>\n      <td>Itália</td>\n      <td>0.8070</td>\n      <td>0.8740</td>\n      <td>0.848000</td>\n    </tr>\n    <tr>\n      <th>13</th>\n      <td>Japão</td>\n      <td>0.8572</td>\n      <td>0.9010</td>\n      <td>0.881360</td>\n    </tr>\n    <tr>\n      <th>14</th>\n      <td>México</td>\n      <td>0.6916</td>\n      <td>0.7700</td>\n      <td>0.736080</td>\n    </tr>\n    <tr>\n      <th>15</th>\n      <td>Reino Unido</td>\n      <td>0.8228</td>\n      <td>0.8630</td>\n      <td>0.846440</td>\n    </tr>\n    <tr>\n      <th>16</th>\n      <td>Rússia</td>\n      <td>0.6814</td>\n      <td>0.7550</td>\n      <td>0.718520</td>\n    </tr>\n    <tr>\n      <th>17</th>\n      <td>África do Sul</td>\n      <td>0.5990</td>\n      <td>0.6328</td>\n      <td>0.612240</td>\n    </tr>\n    <tr>\n      <th>18</th>\n      <td>Índia</td>\n      <td>0.4466</td>\n      <td>0.5470</td>\n      <td>0.495680</td>\n    </tr>\n  </tbody>\n</table>\n</div>"
     },
     "execution_count": 209,
     "metadata": {},
     "output_type": "execute_result"
    }
   ],
   "source": [
    "dados = df.groupby('pais').agg(\n",
    "    min_idh = pd.NamedAgg('idh', 'min'),\n",
    "    max_idh = pd.NamedAgg('idh', 'max'),\n",
    "    media_idh = pd.NamedAgg('idh', 'mean')\n",
    ").reset_index()\n",
    "\n",
    "dados"
   ],
   "metadata": {
    "collapsed": false,
    "ExecuteTime": {
     "end_time": "2024-03-25T22:29:26.933607Z",
     "start_time": "2024-03-25T22:29:26.889705Z"
    }
   },
   "execution_count": 209
  },
  {
   "cell_type": "code",
   "outputs": [
    {
     "data": {
      "text/plain": "<Figure size 1000x600 with 1 Axes>",
      "image/png": "[encoded data removed]"
     },
     "metadata": {},
     "output_type": "display_data"
    }
   ],
   "source": [
    "import matplotlib.pyplot as plt\n",
    " \n",
    "# Dados\n",
    "paises = dados['pais']\n",
    "min_idh = dados['min_idh']\n",
    "max_idh = dados['max_idh']\n",
    "media_idh = dados['media_idh']\n",
    " \n",
    "# Gráfico de Barras\n",
    "plt.figure(figsize=(10, 6))\n",
    "plt.bar(paises, max_idh, label='Máximo IDH', color='red')\n",
    "plt.bar(paises, media_idh, label='Média IDH', color='green')\n",
    "plt.bar(paises, min_idh, label='Mínimo IDH', color='blue')\n",
    " \n",
    "plt.xlabel('Países')\n",
    "plt.ylabel('IDH')\n",
    "plt.title('Estatísticas do IDH por País')\n",
    "plt.xticks(rotation=90)\n",
    "plt.legend()\n",
    "plt.tight_layout()\n",
    "plt.show()"
   ],
   "metadata": {
    "collapsed": false,
    "ExecuteTime": {
     "end_time": "2024-03-25T22:29:27.961566Z",
     "start_time": "2024-03-25T22:29:27.048478Z"
    }
   },
   "execution_count": 210
  },
  {
   "cell_type": "code",
   "outputs": [],
   "source": [],
   "metadata": {
    "collapsed": false,
    "ExecuteTime": {
     "end_time": "2024-03-25T22:29:27.974507Z",
     "start_time": "2024-03-25T22:29:27.967975Z"
    }
   },
   "execution_count": 210
  }
 ]
}
