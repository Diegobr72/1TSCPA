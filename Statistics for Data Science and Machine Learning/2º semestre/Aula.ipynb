{
 "cells": [
  {
   "cell_type": "code",
   "outputs": [],
   "source": [
    "import pandas as pd\n",
    "import numpy as np\n",
    "import matplotlib.pyplot as plt\n",
    "from scipy.stats import stats\n",
    "from scipy.stats import expon\n"
   ],
   "metadata": {
    "collapsed": true,
    "ExecuteTime": {
     "end_time": "2024-04-15T14:11:06.914896Z",
     "start_time": "2024-04-15T14:11:06.904840Z"
    }
   },
   "id": "initial_id",
   "execution_count": 9
  },
  {
   "cell_type": "markdown",
   "source": [
    "Suponha que vocÊ esteja interessado em modelar o tempo entre chegada de clientes em uma loja, e você sabe que esses tempo de chegada seguem uma distribuição exponencial com uma taxa de chegada **média de 10 minutos**.\n",
    "\n",
    "Vamos calcular a probabilidade de que o tempo entre as chegadas de clientes seja **inferior a 5 minutos**, utilizando a distribuição exponencial."
   ],
   "metadata": {
    "collapsed": false
   },
   "id": "cd606ccbf9f5826c"
  },
  {
   "cell_type": "code",
   "outputs": [
    {
     "name": "stdout",
     "output_type": "stream",
     "text": [
      "A probabilidade de que o tempo entre as chegadas de clientes seja inferior a 5 minutos é 1.0\n"
     ]
    }
   ],
   "source": [
    "taxa_chegada_media = 10\n",
    "\n",
    "distribuicao_exponencial = expon(scale=1/taxa_chegada_media)\n",
    "\n",
    "tempo_limite = 5\n",
    "\n",
    "probabilidade = distribuicao_exponencial.cdf(tempo_limite)\n",
    "\n",
    "print(\"A probabilidade de que o tempo entre as chegadas de clientes seja inferior a 5 minutos é\", probabilidade)\n"
   ],
   "metadata": {
    "collapsed": false,
    "ExecuteTime": {
     "end_time": "2024-04-15T14:11:06.974738Z",
     "start_time": "2024-04-15T14:11:06.944579Z"
    }
   },
   "id": "14bfd0321d2f640e",
   "execution_count": 10
  },
  {
   "cell_type": "code",
   "outputs": [],
   "source": [],
   "metadata": {
    "collapsed": false,
    "ExecuteTime": {
     "end_time": "2024-04-15T14:11:07.009542Z",
     "start_time": "2024-04-15T14:11:06.998322Z"
    }
   },
   "id": "8b75d24e8d1a96",
   "execution_count": 10
  }
 ],
 "metadata": {
  "kernelspec": {
   "display_name": "Python 3",
   "language": "python",
   "name": "python3"
  },
  "language_info": {
   "codemirror_mode": {
    "name": "ipython",
    "version": 2
   },
   "file_extension": ".py",
   "mimetype": "text/x-python",
   "name": "python",
   "nbconvert_exporter": "python",
   "pygments_lexer": "ipython2",
   "version": "2.7.6"
  }
 },
 "nbformat": 4,
 "nbformat_minor": 5
}
