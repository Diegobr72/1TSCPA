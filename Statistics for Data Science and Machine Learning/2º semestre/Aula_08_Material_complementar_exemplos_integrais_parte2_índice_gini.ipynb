{
  "nbformat": 4,
  "nbformat_minor": 0,
  "metadata": {
    "colab": {
      "provenance": []
    },
    "kernelspec": {
      "name": "python3",
      "display_name": "Python 3"
    },
    "language_info": {
      "name": "python"
    }
  },
  "cells": [
    {
      "cell_type": "markdown",
      "metadata": {
        "id": "cTtfyrFMPPVn"
      },
      "source": [
        "# Exemplo Índice de Gini"
      ]
    },
    {
      "cell_type": "markdown",
      "metadata": {
        "id": "FzssH-7bWAuV"
      },
      "source": [
        "## Modulos"
      ]
    },
    {
      "cell_type": "code",
      "metadata": {
        "id": "C9bUjz-2WAy1"
      },
      "source": [
        "import numpy as np\n",
        "import pandas as pd\n",
        "import matplotlib.pyplot as plt\n",
        "import sympy as sp\n",
        "import statsmodels.formula.api as sm"
      ],
      "execution_count": 1,
      "outputs": []
    },
    {
      "cell_type": "markdown",
      "metadata": {
        "id": "c4QZefTGWA2g"
      },
      "source": [
        "## Carregar dados"
      ]
    },
    {
      "cell_type": "code",
      "metadata": {
        "id": "eJmtQJWDWA6o"
      },
      "source": [
        "dados_municipios = pd.read_csv('/home/dados_renda_municipios.csv')"
      ],
      "execution_count": 3,
      "outputs": []
    },
    {
      "cell_type": "markdown",
      "metadata": {
        "id": "irp0fdz2WA-p"
      },
      "source": [
        "## Selecionar Estados"
      ]
    },
    {
      "cell_type": "code",
      "metadata": {
        "id": "-DR3iTsha0I2"
      },
      "source": [
        "estado_1 = 'Alagoas'\n",
        "estado_2 = 'Sergipe'"
      ],
      "execution_count": 12,
      "outputs": []
    },
    {
      "cell_type": "code",
      "metadata": {
        "id": "GJo-4Z2ga0NW"
      },
      "source": [
        "#filtrando os municípios conforme os estados de Alagoas e Sergipe\n",
        "dados_estado_1 = dados_municipios[dados_municipios['UF'] == estado_1]\n",
        "dados_estado_2 = dados_municipios[dados_municipios['UF'] == estado_2]"
      ],
      "execution_count": 13,
      "outputs": []
    },
    {
      "cell_type": "code",
      "source": [
        "dados_estado_1"
      ],
      "metadata": {
        "colab": {
          "base_uri": "https://localhost:8080/",
          "height": 423
        },
        "id": "PsFsNmOYgN7K",
        "outputId": "113fc515-1731-44a5-b18b-6c852a2c9f45"
      },
      "execution_count": 14,
      "outputs": [
        {
          "output_type": "execute_result",
          "data": {
            "text/plain": [
              "           UF               Municipio    RDPC\n",
              "1649  Alagoas             ÁGUA BRANCA  213.00\n",
              "1650  Alagoas                  ANADIA  239.53\n",
              "1651  Alagoas               ARAPIRACA  423.28\n",
              "1652  Alagoas                 ATALAIA  237.33\n",
              "1653  Alagoas  BARRA DE SANTO ANTÔNIO  247.81\n",
              "...       ...                     ...     ...\n",
              "1746  Alagoas               TAQUARANA  215.16\n",
              "1747  Alagoas         TEOTÔNIO VILELA  244.39\n",
              "1748  Alagoas                  TRAIPU  178.79\n",
              "1749  Alagoas      UNIÃO DOS PALMARES  313.92\n",
              "1750  Alagoas                  VIÇOSA  251.25\n",
              "\n",
              "[102 rows x 3 columns]"
            ],
            "text/html": [
              "\n",
              "  <div id=\"df-d44c1bb9-050b-4b74-be35-97ef16f17a98\" class=\"colab-df-container\">\n",
              "    <div>\n",
              "<style scoped>\n",
              "    .dataframe tbody tr th:only-of-type {\n",
              "        vertical-align: middle;\n",
              "    }\n",
              "\n",
              "    .dataframe tbody tr th {\n",
              "        vertical-align: top;\n",
              "    }\n",
              "\n",
              "    .dataframe thead th {\n",
              "        text-align: right;\n",
              "    }\n",
              "</style>\n",
              "<table border=\"1\" class=\"dataframe\">\n",
              "  <thead>\n",
              "    <tr style=\"text-align: right;\">\n",
              "      <th></th>\n",
              "      <th>UF</th>\n",
              "      <th>Municipio</th>\n",
              "      <th>RDPC</th>\n",
              "    </tr>\n",
              "  </thead>\n",
              "  <tbody>\n",
              "    <tr>\n",
              "      <th>1649</th>\n",
              "      <td>Alagoas</td>\n",
              "      <td>ÁGUA BRANCA</td>\n",
              "      <td>213.00</td>\n",
              "    </tr>\n",
              "    <tr>\n",
              "      <th>1650</th>\n",
              "      <td>Alagoas</td>\n",
              "      <td>ANADIA</td>\n",
              "      <td>239.53</td>\n",
              "    </tr>\n",
              "    <tr>\n",
              "      <th>1651</th>\n",
              "      <td>Alagoas</td>\n",
              "      <td>ARAPIRACA</td>\n",
              "      <td>423.28</td>\n",
              "    </tr>\n",
              "    <tr>\n",
              "      <th>1652</th>\n",
              "      <td>Alagoas</td>\n",
              "      <td>ATALAIA</td>\n",
              "      <td>237.33</td>\n",
              "    </tr>\n",
              "    <tr>\n",
              "      <th>1653</th>\n",
              "      <td>Alagoas</td>\n",
              "      <td>BARRA DE SANTO ANTÔNIO</td>\n",
              "      <td>247.81</td>\n",
              "    </tr>\n",
              "    <tr>\n",
              "      <th>...</th>\n",
              "      <td>...</td>\n",
              "      <td>...</td>\n",
              "      <td>...</td>\n",
              "    </tr>\n",
              "    <tr>\n",
              "      <th>1746</th>\n",
              "      <td>Alagoas</td>\n",
              "      <td>TAQUARANA</td>\n",
              "      <td>215.16</td>\n",
              "    </tr>\n",
              "    <tr>\n",
              "      <th>1747</th>\n",
              "      <td>Alagoas</td>\n",
              "      <td>TEOTÔNIO VILELA</td>\n",
              "      <td>244.39</td>\n",
              "    </tr>\n",
              "    <tr>\n",
              "      <th>1748</th>\n",
              "      <td>Alagoas</td>\n",
              "      <td>TRAIPU</td>\n",
              "      <td>178.79</td>\n",
              "    </tr>\n",
              "    <tr>\n",
              "      <th>1749</th>\n",
              "      <td>Alagoas</td>\n",
              "      <td>UNIÃO DOS PALMARES</td>\n",
              "      <td>313.92</td>\n",
              "    </tr>\n",
              "    <tr>\n",
              "      <th>1750</th>\n",
              "      <td>Alagoas</td>\n",
              "      <td>VIÇOSA</td>\n",
              "      <td>251.25</td>\n",
              "    </tr>\n",
              "  </tbody>\n",
              "</table>\n",
              "<p>102 rows × 3 columns</p>\n",
              "</div>\n",
              "    <div class=\"colab-df-buttons\">\n",
              "\n",
              "  <div class=\"colab-df-container\">\n",
              "    <button class=\"colab-df-convert\" onclick=\"convertToInteractive('df-d44c1bb9-050b-4b74-be35-97ef16f17a98')\"\n",
              "            title=\"Convert this dataframe to an interactive table.\"\n",
              "            style=\"display:none;\">\n",
              "\n",
              "  <svg xmlns=\"http://www.w3.org/2000/svg\" height=\"24px\" viewBox=\"0 -960 960 960\">\n",
              "    <path d=\"M120-120v-720h720v720H120Zm60-500h600v-160H180v160Zm220 220h160v-160H400v160Zm0 220h160v-160H400v160ZM180-400h160v-160H180v160Zm440 0h160v-160H620v160ZM180-180h160v-160H180v160Zm440 0h160v-160H620v160Z\"/>\n",
              "  </svg>\n",
              "    </button>\n",
              "\n",
              "  <style>\n",
              "    .colab-df-container {\n",
              "      display:flex;\n",
              "      gap: 12px;\n",
              "    }\n",
              "\n",
              "    .colab-df-convert {\n",
              "      background-color: #E8F0FE;\n",
              "      border: none;\n",
              "      border-radius: 50%;\n",
              "      cursor: pointer;\n",
              "      display: none;\n",
              "      fill: #1967D2;\n",
              "      height: 32px;\n",
              "      padding: 0 0 0 0;\n",
              "      width: 32px;\n",
              "    }\n",
              "\n",
              "    .colab-df-convert:hover {\n",
              "      background-color: #E2EBFA;\n",
              "      box-shadow: 0px 1px 2px rgba(60, 64, 67, 0.3), 0px 1px 3px 1px rgba(60, 64, 67, 0.15);\n",
              "      fill: #174EA6;\n",
              "    }\n",
              "\n",
              "    .colab-df-buttons div {\n",
              "      margin-bottom: 4px;\n",
              "    }\n",
              "\n",
              "    [theme=dark] .colab-df-convert {\n",
              "      background-color: #3B4455;\n",
              "      fill: #D2E3FC;\n",
              "    }\n",
              "\n",
              "    [theme=dark] .colab-df-convert:hover {\n",
              "      background-color: #434B5C;\n",
              "      box-shadow: 0px 1px 3px 1px rgba(0, 0, 0, 0.15);\n",
              "      filter: drop-shadow(0px 1px 2px rgba(0, 0, 0, 0.3));\n",
              "      fill: #FFFFFF;\n",
              "    }\n",
              "  </style>\n",
              "\n",
              "    <script>\n",
              "      const buttonEl =\n",
              "        document.querySelector('#df-d44c1bb9-050b-4b74-be35-97ef16f17a98 button.colab-df-convert');\n",
              "      buttonEl.style.display =\n",
              "        google.colab.kernel.accessAllowed ? 'block' : 'none';\n",
              "\n",
              "      async function convertToInteractive(key) {\n",
              "        const element = document.querySelector('#df-d44c1bb9-050b-4b74-be35-97ef16f17a98');\n",
              "        const dataTable =\n",
              "          await google.colab.kernel.invokeFunction('convertToInteractive',\n",
              "                                                    [key], {});\n",
              "        if (!dataTable) return;\n",
              "\n",
              "        const docLinkHtml = 'Like what you see? Visit the ' +\n",
              "          '<a target=\"_blank\" href=https://colab.research.google.com/notebooks/data_table.ipynb>data table notebook</a>'\n",
              "          + ' to learn more about interactive tables.';\n",
              "        element.innerHTML = '';\n",
              "        dataTable['output_type'] = 'display_data';\n",
              "        await google.colab.output.renderOutput(dataTable, element);\n",
              "        const docLink = document.createElement('div');\n",
              "        docLink.innerHTML = docLinkHtml;\n",
              "        element.appendChild(docLink);\n",
              "      }\n",
              "    </script>\n",
              "  </div>\n",
              "\n",
              "\n",
              "<div id=\"df-b575605b-484a-4d70-af08-382a1b6ebe20\">\n",
              "  <button class=\"colab-df-quickchart\" onclick=\"quickchart('df-b575605b-484a-4d70-af08-382a1b6ebe20')\"\n",
              "            title=\"Suggest charts\"\n",
              "            style=\"display:none;\">\n",
              "\n",
              "<svg xmlns=\"http://www.w3.org/2000/svg\" height=\"24px\"viewBox=\"0 0 24 24\"\n",
              "     width=\"24px\">\n",
              "    <g>\n",
              "        <path d=\"M19 3H5c-1.1 0-2 .9-2 2v14c0 1.1.9 2 2 2h14c1.1 0 2-.9 2-2V5c0-1.1-.9-2-2-2zM9 17H7v-7h2v7zm4 0h-2V7h2v10zm4 0h-2v-4h2v4z\"/>\n",
              "    </g>\n",
              "</svg>\n",
              "  </button>\n",
              "\n",
              "<style>\n",
              "  .colab-df-quickchart {\n",
              "      --bg-color: #E8F0FE;\n",
              "      --fill-color: #1967D2;\n",
              "      --hover-bg-color: #E2EBFA;\n",
              "      --hover-fill-color: #174EA6;\n",
              "      --disabled-fill-color: #AAA;\n",
              "      --disabled-bg-color: #DDD;\n",
              "  }\n",
              "\n",
              "  [theme=dark] .colab-df-quickchart {\n",
              "      --bg-color: #3B4455;\n",
              "      --fill-color: #D2E3FC;\n",
              "      --hover-bg-color: #434B5C;\n",
              "      --hover-fill-color: #FFFFFF;\n",
              "      --disabled-bg-color: #3B4455;\n",
              "      --disabled-fill-color: #666;\n",
              "  }\n",
              "\n",
              "  .colab-df-quickchart {\n",
              "    background-color: var(--bg-color);\n",
              "    border: none;\n",
              "    border-radius: 50%;\n",
              "    cursor: pointer;\n",
              "    display: none;\n",
              "    fill: var(--fill-color);\n",
              "    height: 32px;\n",
              "    padding: 0;\n",
              "    width: 32px;\n",
              "  }\n",
              "\n",
              "  .colab-df-quickchart:hover {\n",
              "    background-color: var(--hover-bg-color);\n",
              "    box-shadow: 0 1px 2px rgba(60, 64, 67, 0.3), 0 1px 3px 1px rgba(60, 64, 67, 0.15);\n",
              "    fill: var(--button-hover-fill-color);\n",
              "  }\n",
              "\n",
              "  .colab-df-quickchart-complete:disabled,\n",
              "  .colab-df-quickchart-complete:disabled:hover {\n",
              "    background-color: var(--disabled-bg-color);\n",
              "    fill: var(--disabled-fill-color);\n",
              "    box-shadow: none;\n",
              "  }\n",
              "\n",
              "  .colab-df-spinner {\n",
              "    border: 2px solid var(--fill-color);\n",
              "    border-color: transparent;\n",
              "    border-bottom-color: var(--fill-color);\n",
              "    animation:\n",
              "      spin 1s steps(1) infinite;\n",
              "  }\n",
              "\n",
              "  @keyframes spin {\n",
              "    0% {\n",
              "      border-color: transparent;\n",
              "      border-bottom-color: var(--fill-color);\n",
              "      border-left-color: var(--fill-color);\n",
              "    }\n",
              "    20% {\n",
              "      border-color: transparent;\n",
              "      border-left-color: var(--fill-color);\n",
              "      border-top-color: var(--fill-color);\n",
              "    }\n",
              "    30% {\n",
              "      border-color: transparent;\n",
              "      border-left-color: var(--fill-color);\n",
              "      border-top-color: var(--fill-color);\n",
              "      border-right-color: var(--fill-color);\n",
              "    }\n",
              "    40% {\n",
              "      border-color: transparent;\n",
              "      border-right-color: var(--fill-color);\n",
              "      border-top-color: var(--fill-color);\n",
              "    }\n",
              "    60% {\n",
              "      border-color: transparent;\n",
              "      border-right-color: var(--fill-color);\n",
              "    }\n",
              "    80% {\n",
              "      border-color: transparent;\n",
              "      border-right-color: var(--fill-color);\n",
              "      border-bottom-color: var(--fill-color);\n",
              "    }\n",
              "    90% {\n",
              "      border-color: transparent;\n",
              "      border-bottom-color: var(--fill-color);\n",
              "    }\n",
              "  }\n",
              "</style>\n",
              "\n",
              "  <script>\n",
              "    async function quickchart(key) {\n",
              "      const quickchartButtonEl =\n",
              "        document.querySelector('#' + key + ' button');\n",
              "      quickchartButtonEl.disabled = true;  // To prevent multiple clicks.\n",
              "      quickchartButtonEl.classList.add('colab-df-spinner');\n",
              "      try {\n",
              "        const charts = await google.colab.kernel.invokeFunction(\n",
              "            'suggestCharts', [key], {});\n",
              "      } catch (error) {\n",
              "        console.error('Error during call to suggestCharts:', error);\n",
              "      }\n",
              "      quickchartButtonEl.classList.remove('colab-df-spinner');\n",
              "      quickchartButtonEl.classList.add('colab-df-quickchart-complete');\n",
              "    }\n",
              "    (() => {\n",
              "      let quickchartButtonEl =\n",
              "        document.querySelector('#df-b575605b-484a-4d70-af08-382a1b6ebe20 button');\n",
              "      quickchartButtonEl.style.display =\n",
              "        google.colab.kernel.accessAllowed ? 'block' : 'none';\n",
              "    })();\n",
              "  </script>\n",
              "</div>\n",
              "\n",
              "  <div id=\"id_6ae18b07-91e1-4557-9ea9-fe1bd898da22\">\n",
              "    <style>\n",
              "      .colab-df-generate {\n",
              "        background-color: #E8F0FE;\n",
              "        border: none;\n",
              "        border-radius: 50%;\n",
              "        cursor: pointer;\n",
              "        display: none;\n",
              "        fill: #1967D2;\n",
              "        height: 32px;\n",
              "        padding: 0 0 0 0;\n",
              "        width: 32px;\n",
              "      }\n",
              "\n",
              "      .colab-df-generate:hover {\n",
              "        background-color: #E2EBFA;\n",
              "        box-shadow: 0px 1px 2px rgba(60, 64, 67, 0.3), 0px 1px 3px 1px rgba(60, 64, 67, 0.15);\n",
              "        fill: #174EA6;\n",
              "      }\n",
              "\n",
              "      [theme=dark] .colab-df-generate {\n",
              "        background-color: #3B4455;\n",
              "        fill: #D2E3FC;\n",
              "      }\n",
              "\n",
              "      [theme=dark] .colab-df-generate:hover {\n",
              "        background-color: #434B5C;\n",
              "        box-shadow: 0px 1px 3px 1px rgba(0, 0, 0, 0.15);\n",
              "        filter: drop-shadow(0px 1px 2px rgba(0, 0, 0, 0.3));\n",
              "        fill: #FFFFFF;\n",
              "      }\n",
              "    </style>\n",
              "    <button class=\"colab-df-generate\" onclick=\"generateWithVariable('dados_estado_1')\"\n",
              "            title=\"Generate code using this dataframe.\"\n",
              "            style=\"display:none;\">\n",
              "\n",
              "  <svg xmlns=\"http://www.w3.org/2000/svg\" height=\"24px\"viewBox=\"0 0 24 24\"\n",
              "       width=\"24px\">\n",
              "    <path d=\"M7,19H8.4L18.45,9,17,7.55,7,17.6ZM5,21V16.75L18.45,3.32a2,2,0,0,1,2.83,0l1.4,1.43a1.91,1.91,0,0,1,.58,1.4,1.91,1.91,0,0,1-.58,1.4L9.25,21ZM18.45,9,17,7.55Zm-12,3A5.31,5.31,0,0,0,4.9,8.1,5.31,5.31,0,0,0,1,6.5,5.31,5.31,0,0,0,4.9,4.9,5.31,5.31,0,0,0,6.5,1,5.31,5.31,0,0,0,8.1,4.9,5.31,5.31,0,0,0,12,6.5,5.46,5.46,0,0,0,6.5,12Z\"/>\n",
              "  </svg>\n",
              "    </button>\n",
              "    <script>\n",
              "      (() => {\n",
              "      const buttonEl =\n",
              "        document.querySelector('#id_6ae18b07-91e1-4557-9ea9-fe1bd898da22 button.colab-df-generate');\n",
              "      buttonEl.style.display =\n",
              "        google.colab.kernel.accessAllowed ? 'block' : 'none';\n",
              "\n",
              "      buttonEl.onclick = () => {\n",
              "        google.colab.notebook.generateWithVariable('dados_estado_1');\n",
              "      }\n",
              "      })();\n",
              "    </script>\n",
              "  </div>\n",
              "\n",
              "    </div>\n",
              "  </div>\n"
            ],
            "application/vnd.google.colaboratory.intrinsic+json": {
              "type": "dataframe",
              "variable_name": "dados_estado_1",
              "summary": "{\n  \"name\": \"dados_estado_1\",\n  \"rows\": 102,\n  \"fields\": [\n    {\n      \"column\": \"UF\",\n      \"properties\": {\n        \"dtype\": \"category\",\n        \"num_unique_values\": 1,\n        \"samples\": [\n          \"Alagoas\"\n        ],\n        \"semantic_type\": \"\",\n        \"description\": \"\"\n      }\n    },\n    {\n      \"column\": \"Municipio\",\n      \"properties\": {\n        \"dtype\": \"string\",\n        \"num_unique_values\": 102,\n        \"samples\": [\n          \"FLEXEIRAS\"\n        ],\n        \"semantic_type\": \"\",\n        \"description\": \"\"\n      }\n    },\n    {\n      \"column\": \"RDPC\",\n      \"properties\": {\n        \"dtype\": \"number\",\n        \"std\": 79.12434458618264,\n        \"min\": 151.62,\n        \"max\": 792.54,\n        \"num_unique_values\": 102,\n        \"samples\": [\n          213.44\n        ],\n        \"semantic_type\": \"\",\n        \"description\": \"\"\n      }\n    }\n  ]\n}"
            }
          },
          "metadata": {},
          "execution_count": 14
        }
      ]
    },
    {
      "cell_type": "code",
      "metadata": {
        "id": "UzVljW0ka0Vc"
      },
      "source": [
        "dados_estado_1 = dados_estado_1.sort_values('RDPC').reset_index(drop=True)\n",
        "dados_estado_2 = dados_estado_2.sort_values('RDPC').reset_index(drop=True)"
      ],
      "execution_count": 15,
      "outputs": []
    },
    {
      "cell_type": "code",
      "source": [
        "dados_estado_2"
      ],
      "metadata": {
        "colab": {
          "base_uri": "https://localhost:8080/",
          "height": 423
        },
        "id": "9tud56TsgTJp",
        "outputId": "5abaf1da-0003-4679-ab4a-fdb4c4959996"
      },
      "execution_count": 16,
      "outputs": [
        {
          "output_type": "execute_result",
          "data": {
            "text/plain": [
              "         UF              Municipio     RDPC\n",
              "0   Sergipe  SANTA LUZIA DO ITANHY   194.24\n",
              "1   Sergipe               PACATUBA   195.47\n",
              "2   Sergipe        ILHA DAS FLORES   195.64\n",
              "3   Sergipe           BREJO GRANDE   197.69\n",
              "4   Sergipe           POÇO REDONDO   202.24\n",
              "..      ...                    ...      ...\n",
              "70  Sergipe               ESTÂNCIA   395.41\n",
              "71  Sergipe                PROPRIÁ   400.35\n",
              "72  Sergipe              ITABAIANA   443.39\n",
              "73  Sergipe    BARRA DOS COQUEIROS   448.81\n",
              "74  Sergipe                ARACAJU  1052.03\n",
              "\n",
              "[75 rows x 3 columns]"
            ],
            "text/html": [
              "\n",
              "  <div id=\"df-61b9adcb-bb3c-4a98-b282-fe4d420850de\" class=\"colab-df-container\">\n",
              "    <div>\n",
              "<style scoped>\n",
              "    .dataframe tbody tr th:only-of-type {\n",
              "        vertical-align: middle;\n",
              "    }\n",
              "\n",
              "    .dataframe tbody tr th {\n",
              "        vertical-align: top;\n",
              "    }\n",
              "\n",
              "    .dataframe thead th {\n",
              "        text-align: right;\n",
              "    }\n",
              "</style>\n",
              "<table border=\"1\" class=\"dataframe\">\n",
              "  <thead>\n",
              "    <tr style=\"text-align: right;\">\n",
              "      <th></th>\n",
              "      <th>UF</th>\n",
              "      <th>Municipio</th>\n",
              "      <th>RDPC</th>\n",
              "    </tr>\n",
              "  </thead>\n",
              "  <tbody>\n",
              "    <tr>\n",
              "      <th>0</th>\n",
              "      <td>Sergipe</td>\n",
              "      <td>SANTA LUZIA DO ITANHY</td>\n",
              "      <td>194.24</td>\n",
              "    </tr>\n",
              "    <tr>\n",
              "      <th>1</th>\n",
              "      <td>Sergipe</td>\n",
              "      <td>PACATUBA</td>\n",
              "      <td>195.47</td>\n",
              "    </tr>\n",
              "    <tr>\n",
              "      <th>2</th>\n",
              "      <td>Sergipe</td>\n",
              "      <td>ILHA DAS FLORES</td>\n",
              "      <td>195.64</td>\n",
              "    </tr>\n",
              "    <tr>\n",
              "      <th>3</th>\n",
              "      <td>Sergipe</td>\n",
              "      <td>BREJO GRANDE</td>\n",
              "      <td>197.69</td>\n",
              "    </tr>\n",
              "    <tr>\n",
              "      <th>4</th>\n",
              "      <td>Sergipe</td>\n",
              "      <td>POÇO REDONDO</td>\n",
              "      <td>202.24</td>\n",
              "    </tr>\n",
              "    <tr>\n",
              "      <th>...</th>\n",
              "      <td>...</td>\n",
              "      <td>...</td>\n",
              "      <td>...</td>\n",
              "    </tr>\n",
              "    <tr>\n",
              "      <th>70</th>\n",
              "      <td>Sergipe</td>\n",
              "      <td>ESTÂNCIA</td>\n",
              "      <td>395.41</td>\n",
              "    </tr>\n",
              "    <tr>\n",
              "      <th>71</th>\n",
              "      <td>Sergipe</td>\n",
              "      <td>PROPRIÁ</td>\n",
              "      <td>400.35</td>\n",
              "    </tr>\n",
              "    <tr>\n",
              "      <th>72</th>\n",
              "      <td>Sergipe</td>\n",
              "      <td>ITABAIANA</td>\n",
              "      <td>443.39</td>\n",
              "    </tr>\n",
              "    <tr>\n",
              "      <th>73</th>\n",
              "      <td>Sergipe</td>\n",
              "      <td>BARRA DOS COQUEIROS</td>\n",
              "      <td>448.81</td>\n",
              "    </tr>\n",
              "    <tr>\n",
              "      <th>74</th>\n",
              "      <td>Sergipe</td>\n",
              "      <td>ARACAJU</td>\n",
              "      <td>1052.03</td>\n",
              "    </tr>\n",
              "  </tbody>\n",
              "</table>\n",
              "<p>75 rows × 3 columns</p>\n",
              "</div>\n",
              "    <div class=\"colab-df-buttons\">\n",
              "\n",
              "  <div class=\"colab-df-container\">\n",
              "    <button class=\"colab-df-convert\" onclick=\"convertToInteractive('df-61b9adcb-bb3c-4a98-b282-fe4d420850de')\"\n",
              "            title=\"Convert this dataframe to an interactive table.\"\n",
              "            style=\"display:none;\">\n",
              "\n",
              "  <svg xmlns=\"http://www.w3.org/2000/svg\" height=\"24px\" viewBox=\"0 -960 960 960\">\n",
              "    <path d=\"M120-120v-720h720v720H120Zm60-500h600v-160H180v160Zm220 220h160v-160H400v160Zm0 220h160v-160H400v160ZM180-400h160v-160H180v160Zm440 0h160v-160H620v160ZM180-180h160v-160H180v160Zm440 0h160v-160H620v160Z\"/>\n",
              "  </svg>\n",
              "    </button>\n",
              "\n",
              "  <style>\n",
              "    .colab-df-container {\n",
              "      display:flex;\n",
              "      gap: 12px;\n",
              "    }\n",
              "\n",
              "    .colab-df-convert {\n",
              "      background-color: #E8F0FE;\n",
              "      border: none;\n",
              "      border-radius: 50%;\n",
              "      cursor: pointer;\n",
              "      display: none;\n",
              "      fill: #1967D2;\n",
              "      height: 32px;\n",
              "      padding: 0 0 0 0;\n",
              "      width: 32px;\n",
              "    }\n",
              "\n",
              "    .colab-df-convert:hover {\n",
              "      background-color: #E2EBFA;\n",
              "      box-shadow: 0px 1px 2px rgba(60, 64, 67, 0.3), 0px 1px 3px 1px rgba(60, 64, 67, 0.15);\n",
              "      fill: #174EA6;\n",
              "    }\n",
              "\n",
              "    .colab-df-buttons div {\n",
              "      margin-bottom: 4px;\n",
              "    }\n",
              "\n",
              "    [theme=dark] .colab-df-convert {\n",
              "      background-color: #3B4455;\n",
              "      fill: #D2E3FC;\n",
              "    }\n",
              "\n",
              "    [theme=dark] .colab-df-convert:hover {\n",
              "      background-color: #434B5C;\n",
              "      box-shadow: 0px 1px 3px 1px rgba(0, 0, 0, 0.15);\n",
              "      filter: drop-shadow(0px 1px 2px rgba(0, 0, 0, 0.3));\n",
              "      fill: #FFFFFF;\n",
              "    }\n",
              "  </style>\n",
              "\n",
              "    <script>\n",
              "      const buttonEl =\n",
              "        document.querySelector('#df-61b9adcb-bb3c-4a98-b282-fe4d420850de button.colab-df-convert');\n",
              "      buttonEl.style.display =\n",
              "        google.colab.kernel.accessAllowed ? 'block' : 'none';\n",
              "\n",
              "      async function convertToInteractive(key) {\n",
              "        const element = document.querySelector('#df-61b9adcb-bb3c-4a98-b282-fe4d420850de');\n",
              "        const dataTable =\n",
              "          await google.colab.kernel.invokeFunction('convertToInteractive',\n",
              "                                                    [key], {});\n",
              "        if (!dataTable) return;\n",
              "\n",
              "        const docLinkHtml = 'Like what you see? Visit the ' +\n",
              "          '<a target=\"_blank\" href=https://colab.research.google.com/notebooks/data_table.ipynb>data table notebook</a>'\n",
              "          + ' to learn more about interactive tables.';\n",
              "        element.innerHTML = '';\n",
              "        dataTable['output_type'] = 'display_data';\n",
              "        await google.colab.output.renderOutput(dataTable, element);\n",
              "        const docLink = document.createElement('div');\n",
              "        docLink.innerHTML = docLinkHtml;\n",
              "        element.appendChild(docLink);\n",
              "      }\n",
              "    </script>\n",
              "  </div>\n",
              "\n",
              "\n",
              "<div id=\"df-943ad910-5576-4a8b-966c-1c90a74e7354\">\n",
              "  <button class=\"colab-df-quickchart\" onclick=\"quickchart('df-943ad910-5576-4a8b-966c-1c90a74e7354')\"\n",
              "            title=\"Suggest charts\"\n",
              "            style=\"display:none;\">\n",
              "\n",
              "<svg xmlns=\"http://www.w3.org/2000/svg\" height=\"24px\"viewBox=\"0 0 24 24\"\n",
              "     width=\"24px\">\n",
              "    <g>\n",
              "        <path d=\"M19 3H5c-1.1 0-2 .9-2 2v14c0 1.1.9 2 2 2h14c1.1 0 2-.9 2-2V5c0-1.1-.9-2-2-2zM9 17H7v-7h2v7zm4 0h-2V7h2v10zm4 0h-2v-4h2v4z\"/>\n",
              "    </g>\n",
              "</svg>\n",
              "  </button>\n",
              "\n",
              "<style>\n",
              "  .colab-df-quickchart {\n",
              "      --bg-color: #E8F0FE;\n",
              "      --fill-color: #1967D2;\n",
              "      --hover-bg-color: #E2EBFA;\n",
              "      --hover-fill-color: #174EA6;\n",
              "      --disabled-fill-color: #AAA;\n",
              "      --disabled-bg-color: #DDD;\n",
              "  }\n",
              "\n",
              "  [theme=dark] .colab-df-quickchart {\n",
              "      --bg-color: #3B4455;\n",
              "      --fill-color: #D2E3FC;\n",
              "      --hover-bg-color: #434B5C;\n",
              "      --hover-fill-color: #FFFFFF;\n",
              "      --disabled-bg-color: #3B4455;\n",
              "      --disabled-fill-color: #666;\n",
              "  }\n",
              "\n",
              "  .colab-df-quickchart {\n",
              "    background-color: var(--bg-color);\n",
              "    border: none;\n",
              "    border-radius: 50%;\n",
              "    cursor: pointer;\n",
              "    display: none;\n",
              "    fill: var(--fill-color);\n",
              "    height: 32px;\n",
              "    padding: 0;\n",
              "    width: 32px;\n",
              "  }\n",
              "\n",
              "  .colab-df-quickchart:hover {\n",
              "    background-color: var(--hover-bg-color);\n",
              "    box-shadow: 0 1px 2px rgba(60, 64, 67, 0.3), 0 1px 3px 1px rgba(60, 64, 67, 0.15);\n",
              "    fill: var(--button-hover-fill-color);\n",
              "  }\n",
              "\n",
              "  .colab-df-quickchart-complete:disabled,\n",
              "  .colab-df-quickchart-complete:disabled:hover {\n",
              "    background-color: var(--disabled-bg-color);\n",
              "    fill: var(--disabled-fill-color);\n",
              "    box-shadow: none;\n",
              "  }\n",
              "\n",
              "  .colab-df-spinner {\n",
              "    border: 2px solid var(--fill-color);\n",
              "    border-color: transparent;\n",
              "    border-bottom-color: var(--fill-color);\n",
              "    animation:\n",
              "      spin 1s steps(1) infinite;\n",
              "  }\n",
              "\n",
              "  @keyframes spin {\n",
              "    0% {\n",
              "      border-color: transparent;\n",
              "      border-bottom-color: var(--fill-color);\n",
              "      border-left-color: var(--fill-color);\n",
              "    }\n",
              "    20% {\n",
              "      border-color: transparent;\n",
              "      border-left-color: var(--fill-color);\n",
              "      border-top-color: var(--fill-color);\n",
              "    }\n",
              "    30% {\n",
              "      border-color: transparent;\n",
              "      border-left-color: var(--fill-color);\n",
              "      border-top-color: var(--fill-color);\n",
              "      border-right-color: var(--fill-color);\n",
              "    }\n",
              "    40% {\n",
              "      border-color: transparent;\n",
              "      border-right-color: var(--fill-color);\n",
              "      border-top-color: var(--fill-color);\n",
              "    }\n",
              "    60% {\n",
              "      border-color: transparent;\n",
              "      border-right-color: var(--fill-color);\n",
              "    }\n",
              "    80% {\n",
              "      border-color: transparent;\n",
              "      border-right-color: var(--fill-color);\n",
              "      border-bottom-color: var(--fill-color);\n",
              "    }\n",
              "    90% {\n",
              "      border-color: transparent;\n",
              "      border-bottom-color: var(--fill-color);\n",
              "    }\n",
              "  }\n",
              "</style>\n",
              "\n",
              "  <script>\n",
              "    async function quickchart(key) {\n",
              "      const quickchartButtonEl =\n",
              "        document.querySelector('#' + key + ' button');\n",
              "      quickchartButtonEl.disabled = true;  // To prevent multiple clicks.\n",
              "      quickchartButtonEl.classList.add('colab-df-spinner');\n",
              "      try {\n",
              "        const charts = await google.colab.kernel.invokeFunction(\n",
              "            'suggestCharts', [key], {});\n",
              "      } catch (error) {\n",
              "        console.error('Error during call to suggestCharts:', error);\n",
              "      }\n",
              "      quickchartButtonEl.classList.remove('colab-df-spinner');\n",
              "      quickchartButtonEl.classList.add('colab-df-quickchart-complete');\n",
              "    }\n",
              "    (() => {\n",
              "      let quickchartButtonEl =\n",
              "        document.querySelector('#df-943ad910-5576-4a8b-966c-1c90a74e7354 button');\n",
              "      quickchartButtonEl.style.display =\n",
              "        google.colab.kernel.accessAllowed ? 'block' : 'none';\n",
              "    })();\n",
              "  </script>\n",
              "</div>\n",
              "\n",
              "  <div id=\"id_6943e819-cad7-479e-9284-01011ab7c3c5\">\n",
              "    <style>\n",
              "      .colab-df-generate {\n",
              "        background-color: #E8F0FE;\n",
              "        border: none;\n",
              "        border-radius: 50%;\n",
              "        cursor: pointer;\n",
              "        display: none;\n",
              "        fill: #1967D2;\n",
              "        height: 32px;\n",
              "        padding: 0 0 0 0;\n",
              "        width: 32px;\n",
              "      }\n",
              "\n",
              "      .colab-df-generate:hover {\n",
              "        background-color: #E2EBFA;\n",
              "        box-shadow: 0px 1px 2px rgba(60, 64, 67, 0.3), 0px 1px 3px 1px rgba(60, 64, 67, 0.15);\n",
              "        fill: #174EA6;\n",
              "      }\n",
              "\n",
              "      [theme=dark] .colab-df-generate {\n",
              "        background-color: #3B4455;\n",
              "        fill: #D2E3FC;\n",
              "      }\n",
              "\n",
              "      [theme=dark] .colab-df-generate:hover {\n",
              "        background-color: #434B5C;\n",
              "        box-shadow: 0px 1px 3px 1px rgba(0, 0, 0, 0.15);\n",
              "        filter: drop-shadow(0px 1px 2px rgba(0, 0, 0, 0.3));\n",
              "        fill: #FFFFFF;\n",
              "      }\n",
              "    </style>\n",
              "    <button class=\"colab-df-generate\" onclick=\"generateWithVariable('dados_estado_2')\"\n",
              "            title=\"Generate code using this dataframe.\"\n",
              "            style=\"display:none;\">\n",
              "\n",
              "  <svg xmlns=\"http://www.w3.org/2000/svg\" height=\"24px\"viewBox=\"0 0 24 24\"\n",
              "       width=\"24px\">\n",
              "    <path d=\"M7,19H8.4L18.45,9,17,7.55,7,17.6ZM5,21V16.75L18.45,3.32a2,2,0,0,1,2.83,0l1.4,1.43a1.91,1.91,0,0,1,.58,1.4,1.91,1.91,0,0,1-.58,1.4L9.25,21ZM18.45,9,17,7.55Zm-12,3A5.31,5.31,0,0,0,4.9,8.1,5.31,5.31,0,0,0,1,6.5,5.31,5.31,0,0,0,4.9,4.9,5.31,5.31,0,0,0,6.5,1,5.31,5.31,0,0,0,8.1,4.9,5.31,5.31,0,0,0,12,6.5,5.46,5.46,0,0,0,6.5,12Z\"/>\n",
              "  </svg>\n",
              "    </button>\n",
              "    <script>\n",
              "      (() => {\n",
              "      const buttonEl =\n",
              "        document.querySelector('#id_6943e819-cad7-479e-9284-01011ab7c3c5 button.colab-df-generate');\n",
              "      buttonEl.style.display =\n",
              "        google.colab.kernel.accessAllowed ? 'block' : 'none';\n",
              "\n",
              "      buttonEl.onclick = () => {\n",
              "        google.colab.notebook.generateWithVariable('dados_estado_2');\n",
              "      }\n",
              "      })();\n",
              "    </script>\n",
              "  </div>\n",
              "\n",
              "    </div>\n",
              "  </div>\n"
            ],
            "application/vnd.google.colaboratory.intrinsic+json": {
              "type": "dataframe",
              "variable_name": "dados_estado_2",
              "summary": "{\n  \"name\": \"dados_estado_2\",\n  \"rows\": 75,\n  \"fields\": [\n    {\n      \"column\": \"UF\",\n      \"properties\": {\n        \"dtype\": \"category\",\n        \"num_unique_values\": 1,\n        \"samples\": [\n          \"Sergipe\"\n        ],\n        \"semantic_type\": \"\",\n        \"description\": \"\"\n      }\n    },\n    {\n      \"column\": \"Municipio\",\n      \"properties\": {\n        \"dtype\": \"string\",\n        \"num_unique_values\": 75,\n        \"samples\": [\n          \"PO\\u00c7O REDONDO\"\n        ],\n        \"semantic_type\": \"\",\n        \"description\": \"\"\n      }\n    },\n    {\n      \"column\": \"RDPC\",\n      \"properties\": {\n        \"dtype\": \"number\",\n        \"std\": 105.97705635391766,\n        \"min\": 194.24,\n        \"max\": 1052.03,\n        \"num_unique_values\": 75,\n        \"samples\": [\n          202.24\n        ],\n        \"semantic_type\": \"\",\n        \"description\": \"\"\n      }\n    }\n  ]\n}"
            }
          },
          "metadata": {},
          "execution_count": 16
        }
      ]
    },
    {
      "cell_type": "markdown",
      "metadata": {
        "id": "EgXRp2Foa0Yy"
      },
      "source": [
        "## Construir as curvas"
      ]
    },
    {
      "cell_type": "markdown",
      "metadata": {
        "id": "eubviJK2m_ml"
      },
      "source": [
        "- Estado 1"
      ]
    },
    {
      "cell_type": "code",
      "metadata": {
        "id": "fJsVLK_hrgZG"
      },
      "source": [
        "#calcula a soma de todos os valores na coluna 'RDPC' do DataFrame dados_estado_1\n",
        "total = np.sum(dados_estado_1['RDPC'].values)"
      ],
      "execution_count": 20,
      "outputs": []
    },
    {
      "cell_type": "code",
      "source": [
        "total"
      ],
      "metadata": {
        "colab": {
          "base_uri": "https://localhost:8080/"
        },
        "id": "5Sms0YcsgX7h",
        "outputId": "5b6c22ed-4d14-4c9e-fbdd-1a825afde79e"
      },
      "execution_count": null,
      "outputs": [
        {
          "output_type": "execute_result",
          "data": {
            "text/plain": [
              "25623.979999999996"
            ]
          },
          "metadata": {},
          "execution_count": 138
        }
      ]
    },
    {
      "cell_type": "markdown",
      "source": [
        "**Pausa para um \"parênteses\" na explicação:**"
      ],
      "metadata": {
        "id": "fDDVNow0hnTR"
      }
    },
    {
      "cell_type": "code",
      "source": [
        "np.cumsum([1, 2, 3])"
      ],
      "metadata": {
        "colab": {
          "base_uri": "https://localhost:8080/"
        },
        "id": "vXAUNzTchqlR",
        "outputId": "f9c556e0-0322-47f3-d0d5-6af0a68de19f"
      },
      "execution_count": null,
      "outputs": [
        {
          "output_type": "execute_result",
          "data": {
            "text/plain": [
              "array([1, 3, 6])"
            ]
          },
          "metadata": {},
          "execution_count": 139
        }
      ]
    },
    {
      "cell_type": "code",
      "source": [
        "np.cumsum([1, 2, 3, 4, 5])"
      ],
      "metadata": {
        "colab": {
          "base_uri": "https://localhost:8080/"
        },
        "id": "wf01-Qq_hsuJ",
        "outputId": "d37ddd4a-f994-4dbd-df72-f77983dd3272"
      },
      "execution_count": null,
      "outputs": [
        {
          "output_type": "execute_result",
          "data": {
            "text/plain": [
              "array([ 1,  3,  6, 10, 15])"
            ]
          },
          "metadata": {},
          "execution_count": 140
        }
      ]
    },
    {
      "cell_type": "code",
      "source": [
        "np.cumsum([1, 2, 3, 4, 5, 6, 7])"
      ],
      "metadata": {
        "colab": {
          "base_uri": "https://localhost:8080/"
        },
        "id": "H505ZldkhxSC",
        "outputId": "9b7d9e90-690e-45c0-9ee7-c998a676abe0"
      },
      "execution_count": null,
      "outputs": [
        {
          "output_type": "execute_result",
          "data": {
            "text/plain": [
              "array([ 1,  3,  6, 10, 15, 21, 28])"
            ]
          },
          "metadata": {},
          "execution_count": 141
        }
      ]
    },
    {
      "cell_type": "code",
      "source": [
        "np.linspace(0, 1, 5)#início, fim, quantidade"
      ],
      "metadata": {
        "colab": {
          "base_uri": "https://localhost:8080/"
        },
        "id": "IOP5ShVwh9by",
        "outputId": "1dc8b1e5-8fa7-47f6-832b-2be78452c3b6"
      },
      "execution_count": null,
      "outputs": [
        {
          "output_type": "execute_result",
          "data": {
            "text/plain": [
              "array([0.  , 0.25, 0.5 , 0.75, 1.  ])"
            ]
          },
          "metadata": {},
          "execution_count": 142
        }
      ]
    },
    {
      "cell_type": "code",
      "source": [
        "np.linspace(0, 1, 21)#início, fim, quantidade"
      ],
      "metadata": {
        "colab": {
          "base_uri": "https://localhost:8080/"
        },
        "id": "XfWCWVw_vqYC",
        "outputId": "f1813d91-1be7-4c03-c8b0-4ef83d43c25f"
      },
      "execution_count": 18,
      "outputs": [
        {
          "output_type": "execute_result",
          "data": {
            "text/plain": [
              "array([0.  , 0.05, 0.1 , 0.15, 0.2 , 0.25, 0.3 , 0.35, 0.4 , 0.45, 0.5 ,\n",
              "       0.55, 0.6 , 0.65, 0.7 , 0.75, 0.8 , 0.85, 0.9 , 0.95, 1.  ])"
            ]
          },
          "metadata": {},
          "execution_count": 18
        }
      ]
    },
    {
      "cell_type": "markdown",
      "source": [
        "**dados_estado_1['RDPC'].values:** Seleciona a coluna 'RDPC' do DataFrame dados_estado_1, extrai os valores como um array NumPy.\n",
        "\n",
        "**np.cumsum(...):** Esta função NumPy calcula a soma cumulativa dos valores ao longo do array. Ou seja, para cada posição no array, ela calcula a soma de todos os elementos até aquele ponto.\n",
        "\n",
        "**np.array([0]):**Aqui, criamos um array NumPy com um único elemento zero. Isso é feito para incluir um ponto de partida na soma cumulativa.\n",
        "\n",
        "**np.append(...):**Esta função concatena o array NumPy contendo um único zero com o array resultante da soma cumulativa. Assim, o primeiro elemento do array resultante será 0 e os elementos subsequentes serão a soma cumulativa dos valores da coluna 'RDPC' normalizada pelo total.\n",
        "\n",
        "Finalmente, dividimos a soma cumulativa pelo total para normalizar os valores. Isso é feito para expressar a distribuição de renda em termos de percentagem do total.\n"
      ],
      "metadata": {
        "id": "NUUwqG5uhPlL"
      }
    },
    {
      "cell_type": "code",
      "source": [
        "x= np.append(np.array([0]), np.cumsum(dados_estado_1['RDPC'].values))\n"
      ],
      "metadata": {
        "id": "Ujm7iNTdhsM6"
      },
      "execution_count": 23,
      "outputs": []
    },
    {
      "cell_type": "code",
      "source": [
        "x/total"
      ],
      "metadata": {
        "colab": {
          "base_uri": "https://localhost:8080/"
        },
        "id": "UvaQGKXLySLm",
        "outputId": "5c902f5c-3cb3-40ce-8abe-a1c26bddd975"
      },
      "execution_count": 27,
      "outputs": [
        {
          "output_type": "execute_result",
          "data": {
            "text/plain": [
              "array([0.        , 0.00591711, 0.01214604, 0.01847644, 0.0253692 ,\n",
              "       0.03229826, 0.03927571, 0.04632536, 0.05341013, 0.06058427,\n",
              "       0.06781928, 0.07511206, 0.08243996, 0.08980962, 0.09723353,\n",
              "       0.10476827, 0.11236779, 0.11997043, 0.12757542, 0.13519289,\n",
              "       0.1428131 , 0.15049809, 0.15827947, 0.16606671, 0.17385551,\n",
              "       0.18164821, 0.18957633, 0.1977265 , 0.20596605, 0.21423838,\n",
              "       0.22255091, 0.2308806 , 0.23927743, 0.24777416, 0.25627596,\n",
              "       0.26482654, 0.27339352, 0.28201513, 0.29067616, 0.29943085,\n",
              "       0.3082031 , 0.31701672, 0.32586   , 0.33474074, 0.343625  ,\n",
              "       0.35257716, 0.36154571, 0.37057514, 0.37961199, 0.38865898,\n",
              "       0.39774617, 0.40684546, 0.41596661, 0.425142  , 0.43440402,\n",
              "       0.44368361, 0.4530315 , 0.46238797, 0.47179985, 0.48125506,\n",
              "       0.49079261, 0.50034811, 0.50992625, 0.51950673, 0.52915394,\n",
              "       0.53882496, 0.54863023, 0.55843979, 0.56834692, 0.57827277,\n",
              "       0.58828098, 0.59833562, 0.60847144, 0.61862599, 0.62880864,\n",
              "       0.63917471, 0.64955405, 0.66009262, 0.67080368, 0.68184295,\n",
              "       0.69292709, 0.70408773, 0.71548565, 0.72691557, 0.73838334,\n",
              "       0.74993307, 0.76152573, 0.77321283, 0.78519223, 0.79727076,\n",
              "       0.80952178, 0.82184813, 0.83452883, 0.84749051, 0.86072616,\n",
              "       0.8748075 , 0.88921237, 0.90394154, 0.91921513, 0.93571451,\n",
              "       0.95223342, 0.96907038, 1.        ])"
            ]
          },
          "metadata": {},
          "execution_count": 27
        }
      ]
    },
    {
      "cell_type": "code",
      "metadata": {
        "id": "1GRBuxEga0ct",
        "colab": {
          "base_uri": "https://localhost:8080/"
        },
        "outputId": "573ca005-094a-4e73-e663-48dedcfaadbe"
      },
      "source": [
        "p_renda_estado_1 = np.append(np.array([0]), np.cumsum(dados_estado_1['RDPC'].values)/total   )\n",
        "p_renda_estado_1"
      ],
      "execution_count": 21,
      "outputs": [
        {
          "output_type": "execute_result",
          "data": {
            "text/plain": [
              "array([0.        , 0.00591711, 0.01214604, 0.01847644, 0.0253692 ,\n",
              "       0.03229826, 0.03927571, 0.04632536, 0.05341013, 0.06058427,\n",
              "       0.06781928, 0.07511206, 0.08243996, 0.08980962, 0.09723353,\n",
              "       0.10476827, 0.11236779, 0.11997043, 0.12757542, 0.13519289,\n",
              "       0.1428131 , 0.15049809, 0.15827947, 0.16606671, 0.17385551,\n",
              "       0.18164821, 0.18957633, 0.1977265 , 0.20596605, 0.21423838,\n",
              "       0.22255091, 0.2308806 , 0.23927743, 0.24777416, 0.25627596,\n",
              "       0.26482654, 0.27339352, 0.28201513, 0.29067616, 0.29943085,\n",
              "       0.3082031 , 0.31701672, 0.32586   , 0.33474074, 0.343625  ,\n",
              "       0.35257716, 0.36154571, 0.37057514, 0.37961199, 0.38865898,\n",
              "       0.39774617, 0.40684546, 0.41596661, 0.425142  , 0.43440402,\n",
              "       0.44368361, 0.4530315 , 0.46238797, 0.47179985, 0.48125506,\n",
              "       0.49079261, 0.50034811, 0.50992625, 0.51950673, 0.52915394,\n",
              "       0.53882496, 0.54863023, 0.55843979, 0.56834692, 0.57827277,\n",
              "       0.58828098, 0.59833562, 0.60847144, 0.61862599, 0.62880864,\n",
              "       0.63917471, 0.64955405, 0.66009262, 0.67080368, 0.68184295,\n",
              "       0.69292709, 0.70408773, 0.71548565, 0.72691557, 0.73838334,\n",
              "       0.74993307, 0.76152573, 0.77321283, 0.78519223, 0.79727076,\n",
              "       0.80952178, 0.82184813, 0.83452883, 0.84749051, 0.86072616,\n",
              "       0.8748075 , 0.88921237, 0.90394154, 0.91921513, 0.93571451,\n",
              "       0.95223342, 0.96907038, 1.        ])"
            ]
          },
          "metadata": {},
          "execution_count": 21
        }
      ]
    },
    {
      "cell_type": "code",
      "metadata": {
        "id": "VPJ6rY7Fa0hF",
        "colab": {
          "base_uri": "https://localhost:8080/"
        },
        "outputId": "034c001e-f415-4a8b-e845-4c1a97b4d766"
      },
      "source": [
        "#cria um intervalo entre 0% e 100% (0 e 1) do percentual de divisão de renda IDEAL f(x) = x,\n",
        "#onde x é a populaçao e f(x) a distribuição de renda, ou seja, 1 para 1\n",
        "#conforme o tamanho da quantidade de linhas que temos na lista p_renda_estado_1\n",
        "p_familias_estado_1 = np.linspace(0, 1, len(p_renda_estado_1))\n",
        "\n",
        "p_familias_estado_1"
      ],
      "execution_count": 30,
      "outputs": [
        {
          "output_type": "execute_result",
          "data": {
            "text/plain": [
              "array([0.        , 0.00980392, 0.01960784, 0.02941176, 0.03921569,\n",
              "       0.04901961, 0.05882353, 0.06862745, 0.07843137, 0.08823529,\n",
              "       0.09803922, 0.10784314, 0.11764706, 0.12745098, 0.1372549 ,\n",
              "       0.14705882, 0.15686275, 0.16666667, 0.17647059, 0.18627451,\n",
              "       0.19607843, 0.20588235, 0.21568627, 0.2254902 , 0.23529412,\n",
              "       0.24509804, 0.25490196, 0.26470588, 0.2745098 , 0.28431373,\n",
              "       0.29411765, 0.30392157, 0.31372549, 0.32352941, 0.33333333,\n",
              "       0.34313725, 0.35294118, 0.3627451 , 0.37254902, 0.38235294,\n",
              "       0.39215686, 0.40196078, 0.41176471, 0.42156863, 0.43137255,\n",
              "       0.44117647, 0.45098039, 0.46078431, 0.47058824, 0.48039216,\n",
              "       0.49019608, 0.5       , 0.50980392, 0.51960784, 0.52941176,\n",
              "       0.53921569, 0.54901961, 0.55882353, 0.56862745, 0.57843137,\n",
              "       0.58823529, 0.59803922, 0.60784314, 0.61764706, 0.62745098,\n",
              "       0.6372549 , 0.64705882, 0.65686275, 0.66666667, 0.67647059,\n",
              "       0.68627451, 0.69607843, 0.70588235, 0.71568627, 0.7254902 ,\n",
              "       0.73529412, 0.74509804, 0.75490196, 0.76470588, 0.7745098 ,\n",
              "       0.78431373, 0.79411765, 0.80392157, 0.81372549, 0.82352941,\n",
              "       0.83333333, 0.84313725, 0.85294118, 0.8627451 , 0.87254902,\n",
              "       0.88235294, 0.89215686, 0.90196078, 0.91176471, 0.92156863,\n",
              "       0.93137255, 0.94117647, 0.95098039, 0.96078431, 0.97058824,\n",
              "       0.98039216, 0.99019608, 1.        ])"
            ]
          },
          "metadata": {},
          "execution_count": 30
        }
      ]
    },
    {
      "cell_type": "code",
      "metadata": {
        "id": "q3YmNzyalEFB"
      },
      "source": [
        "df_estado_1 = pd.DataFrame({'p_familias_estado_1': p_familias_estado_1,\n",
        "                            'p_renda_estado_1':p_renda_estado_1})"
      ],
      "execution_count": null,
      "outputs": []
    },
    {
      "cell_type": "code",
      "source": [
        "df_estado_1"
      ],
      "metadata": {
        "colab": {
          "base_uri": "https://localhost:8080/",
          "height": 423
        },
        "id": "kLUcooDqilSj",
        "outputId": "c49826d8-298a-4c32-e160-aebeb764f304"
      },
      "execution_count": null,
      "outputs": [
        {
          "output_type": "execute_result",
          "data": {
            "text/plain": [
              "     p_familias_estado_1  p_renda_estado_1\n",
              "0               0.000000          0.000000\n",
              "1               0.009804          0.005917\n",
              "2               0.019608          0.012146\n",
              "3               0.029412          0.018476\n",
              "4               0.039216          0.025369\n",
              "..                   ...               ...\n",
              "98              0.960784          0.919215\n",
              "99              0.970588          0.935715\n",
              "100             0.980392          0.952233\n",
              "101             0.990196          0.969070\n",
              "102             1.000000          1.000000\n",
              "\n",
              "[103 rows x 2 columns]"
            ],
            "text/html": [
              "\n",
              "  <div id=\"df-47a8bbd1-5e47-47dc-9866-57b32ac1d896\" class=\"colab-df-container\">\n",
              "    <div>\n",
              "<style scoped>\n",
              "    .dataframe tbody tr th:only-of-type {\n",
              "        vertical-align: middle;\n",
              "    }\n",
              "\n",
              "    .dataframe tbody tr th {\n",
              "        vertical-align: top;\n",
              "    }\n",
              "\n",
              "    .dataframe thead th {\n",
              "        text-align: right;\n",
              "    }\n",
              "</style>\n",
              "<table border=\"1\" class=\"dataframe\">\n",
              "  <thead>\n",
              "    <tr style=\"text-align: right;\">\n",
              "      <th></th>\n",
              "      <th>p_familias_estado_1</th>\n",
              "      <th>p_renda_estado_1</th>\n",
              "    </tr>\n",
              "  </thead>\n",
              "  <tbody>\n",
              "    <tr>\n",
              "      <th>0</th>\n",
              "      <td>0.000000</td>\n",
              "      <td>0.000000</td>\n",
              "    </tr>\n",
              "    <tr>\n",
              "      <th>1</th>\n",
              "      <td>0.009804</td>\n",
              "      <td>0.005917</td>\n",
              "    </tr>\n",
              "    <tr>\n",
              "      <th>2</th>\n",
              "      <td>0.019608</td>\n",
              "      <td>0.012146</td>\n",
              "    </tr>\n",
              "    <tr>\n",
              "      <th>3</th>\n",
              "      <td>0.029412</td>\n",
              "      <td>0.018476</td>\n",
              "    </tr>\n",
              "    <tr>\n",
              "      <th>4</th>\n",
              "      <td>0.039216</td>\n",
              "      <td>0.025369</td>\n",
              "    </tr>\n",
              "    <tr>\n",
              "      <th>...</th>\n",
              "      <td>...</td>\n",
              "      <td>...</td>\n",
              "    </tr>\n",
              "    <tr>\n",
              "      <th>98</th>\n",
              "      <td>0.960784</td>\n",
              "      <td>0.919215</td>\n",
              "    </tr>\n",
              "    <tr>\n",
              "      <th>99</th>\n",
              "      <td>0.970588</td>\n",
              "      <td>0.935715</td>\n",
              "    </tr>\n",
              "    <tr>\n",
              "      <th>100</th>\n",
              "      <td>0.980392</td>\n",
              "      <td>0.952233</td>\n",
              "    </tr>\n",
              "    <tr>\n",
              "      <th>101</th>\n",
              "      <td>0.990196</td>\n",
              "      <td>0.969070</td>\n",
              "    </tr>\n",
              "    <tr>\n",
              "      <th>102</th>\n",
              "      <td>1.000000</td>\n",
              "      <td>1.000000</td>\n",
              "    </tr>\n",
              "  </tbody>\n",
              "</table>\n",
              "<p>103 rows × 2 columns</p>\n",
              "</div>\n",
              "    <div class=\"colab-df-buttons\">\n",
              "\n",
              "  <div class=\"colab-df-container\">\n",
              "    <button class=\"colab-df-convert\" onclick=\"convertToInteractive('df-47a8bbd1-5e47-47dc-9866-57b32ac1d896')\"\n",
              "            title=\"Convert this dataframe to an interactive table.\"\n",
              "            style=\"display:none;\">\n",
              "\n",
              "  <svg xmlns=\"http://www.w3.org/2000/svg\" height=\"24px\" viewBox=\"0 -960 960 960\">\n",
              "    <path d=\"M120-120v-720h720v720H120Zm60-500h600v-160H180v160Zm220 220h160v-160H400v160Zm0 220h160v-160H400v160ZM180-400h160v-160H180v160Zm440 0h160v-160H620v160ZM180-180h160v-160H180v160Zm440 0h160v-160H620v160Z\"/>\n",
              "  </svg>\n",
              "    </button>\n",
              "\n",
              "  <style>\n",
              "    .colab-df-container {\n",
              "      display:flex;\n",
              "      gap: 12px;\n",
              "    }\n",
              "\n",
              "    .colab-df-convert {\n",
              "      background-color: #E8F0FE;\n",
              "      border: none;\n",
              "      border-radius: 50%;\n",
              "      cursor: pointer;\n",
              "      display: none;\n",
              "      fill: #1967D2;\n",
              "      height: 32px;\n",
              "      padding: 0 0 0 0;\n",
              "      width: 32px;\n",
              "    }\n",
              "\n",
              "    .colab-df-convert:hover {\n",
              "      background-color: #E2EBFA;\n",
              "      box-shadow: 0px 1px 2px rgba(60, 64, 67, 0.3), 0px 1px 3px 1px rgba(60, 64, 67, 0.15);\n",
              "      fill: #174EA6;\n",
              "    }\n",
              "\n",
              "    .colab-df-buttons div {\n",
              "      margin-bottom: 4px;\n",
              "    }\n",
              "\n",
              "    [theme=dark] .colab-df-convert {\n",
              "      background-color: #3B4455;\n",
              "      fill: #D2E3FC;\n",
              "    }\n",
              "\n",
              "    [theme=dark] .colab-df-convert:hover {\n",
              "      background-color: #434B5C;\n",
              "      box-shadow: 0px 1px 3px 1px rgba(0, 0, 0, 0.15);\n",
              "      filter: drop-shadow(0px 1px 2px rgba(0, 0, 0, 0.3));\n",
              "      fill: #FFFFFF;\n",
              "    }\n",
              "  </style>\n",
              "\n",
              "    <script>\n",
              "      const buttonEl =\n",
              "        document.querySelector('#df-47a8bbd1-5e47-47dc-9866-57b32ac1d896 button.colab-df-convert');\n",
              "      buttonEl.style.display =\n",
              "        google.colab.kernel.accessAllowed ? 'block' : 'none';\n",
              "\n",
              "      async function convertToInteractive(key) {\n",
              "        const element = document.querySelector('#df-47a8bbd1-5e47-47dc-9866-57b32ac1d896');\n",
              "        const dataTable =\n",
              "          await google.colab.kernel.invokeFunction('convertToInteractive',\n",
              "                                                    [key], {});\n",
              "        if (!dataTable) return;\n",
              "\n",
              "        const docLinkHtml = 'Like what you see? Visit the ' +\n",
              "          '<a target=\"_blank\" href=https://colab.research.google.com/notebooks/data_table.ipynb>data table notebook</a>'\n",
              "          + ' to learn more about interactive tables.';\n",
              "        element.innerHTML = '';\n",
              "        dataTable['output_type'] = 'display_data';\n",
              "        await google.colab.output.renderOutput(dataTable, element);\n",
              "        const docLink = document.createElement('div');\n",
              "        docLink.innerHTML = docLinkHtml;\n",
              "        element.appendChild(docLink);\n",
              "      }\n",
              "    </script>\n",
              "  </div>\n",
              "\n",
              "\n",
              "<div id=\"df-1e223ee7-31a3-4b29-b5ab-8fcd99e60942\">\n",
              "  <button class=\"colab-df-quickchart\" onclick=\"quickchart('df-1e223ee7-31a3-4b29-b5ab-8fcd99e60942')\"\n",
              "            title=\"Suggest charts\"\n",
              "            style=\"display:none;\">\n",
              "\n",
              "<svg xmlns=\"http://www.w3.org/2000/svg\" height=\"24px\"viewBox=\"0 0 24 24\"\n",
              "     width=\"24px\">\n",
              "    <g>\n",
              "        <path d=\"M19 3H5c-1.1 0-2 .9-2 2v14c0 1.1.9 2 2 2h14c1.1 0 2-.9 2-2V5c0-1.1-.9-2-2-2zM9 17H7v-7h2v7zm4 0h-2V7h2v10zm4 0h-2v-4h2v4z\"/>\n",
              "    </g>\n",
              "</svg>\n",
              "  </button>\n",
              "\n",
              "<style>\n",
              "  .colab-df-quickchart {\n",
              "      --bg-color: #E8F0FE;\n",
              "      --fill-color: #1967D2;\n",
              "      --hover-bg-color: #E2EBFA;\n",
              "      --hover-fill-color: #174EA6;\n",
              "      --disabled-fill-color: #AAA;\n",
              "      --disabled-bg-color: #DDD;\n",
              "  }\n",
              "\n",
              "  [theme=dark] .colab-df-quickchart {\n",
              "      --bg-color: #3B4455;\n",
              "      --fill-color: #D2E3FC;\n",
              "      --hover-bg-color: #434B5C;\n",
              "      --hover-fill-color: #FFFFFF;\n",
              "      --disabled-bg-color: #3B4455;\n",
              "      --disabled-fill-color: #666;\n",
              "  }\n",
              "\n",
              "  .colab-df-quickchart {\n",
              "    background-color: var(--bg-color);\n",
              "    border: none;\n",
              "    border-radius: 50%;\n",
              "    cursor: pointer;\n",
              "    display: none;\n",
              "    fill: var(--fill-color);\n",
              "    height: 32px;\n",
              "    padding: 0;\n",
              "    width: 32px;\n",
              "  }\n",
              "\n",
              "  .colab-df-quickchart:hover {\n",
              "    background-color: var(--hover-bg-color);\n",
              "    box-shadow: 0 1px 2px rgba(60, 64, 67, 0.3), 0 1px 3px 1px rgba(60, 64, 67, 0.15);\n",
              "    fill: var(--button-hover-fill-color);\n",
              "  }\n",
              "\n",
              "  .colab-df-quickchart-complete:disabled,\n",
              "  .colab-df-quickchart-complete:disabled:hover {\n",
              "    background-color: var(--disabled-bg-color);\n",
              "    fill: var(--disabled-fill-color);\n",
              "    box-shadow: none;\n",
              "  }\n",
              "\n",
              "  .colab-df-spinner {\n",
              "    border: 2px solid var(--fill-color);\n",
              "    border-color: transparent;\n",
              "    border-bottom-color: var(--fill-color);\n",
              "    animation:\n",
              "      spin 1s steps(1) infinite;\n",
              "  }\n",
              "\n",
              "  @keyframes spin {\n",
              "    0% {\n",
              "      border-color: transparent;\n",
              "      border-bottom-color: var(--fill-color);\n",
              "      border-left-color: var(--fill-color);\n",
              "    }\n",
              "    20% {\n",
              "      border-color: transparent;\n",
              "      border-left-color: var(--fill-color);\n",
              "      border-top-color: var(--fill-color);\n",
              "    }\n",
              "    30% {\n",
              "      border-color: transparent;\n",
              "      border-left-color: var(--fill-color);\n",
              "      border-top-color: var(--fill-color);\n",
              "      border-right-color: var(--fill-color);\n",
              "    }\n",
              "    40% {\n",
              "      border-color: transparent;\n",
              "      border-right-color: var(--fill-color);\n",
              "      border-top-color: var(--fill-color);\n",
              "    }\n",
              "    60% {\n",
              "      border-color: transparent;\n",
              "      border-right-color: var(--fill-color);\n",
              "    }\n",
              "    80% {\n",
              "      border-color: transparent;\n",
              "      border-right-color: var(--fill-color);\n",
              "      border-bottom-color: var(--fill-color);\n",
              "    }\n",
              "    90% {\n",
              "      border-color: transparent;\n",
              "      border-bottom-color: var(--fill-color);\n",
              "    }\n",
              "  }\n",
              "</style>\n",
              "\n",
              "  <script>\n",
              "    async function quickchart(key) {\n",
              "      const quickchartButtonEl =\n",
              "        document.querySelector('#' + key + ' button');\n",
              "      quickchartButtonEl.disabled = true;  // To prevent multiple clicks.\n",
              "      quickchartButtonEl.classList.add('colab-df-spinner');\n",
              "      try {\n",
              "        const charts = await google.colab.kernel.invokeFunction(\n",
              "            'suggestCharts', [key], {});\n",
              "      } catch (error) {\n",
              "        console.error('Error during call to suggestCharts:', error);\n",
              "      }\n",
              "      quickchartButtonEl.classList.remove('colab-df-spinner');\n",
              "      quickchartButtonEl.classList.add('colab-df-quickchart-complete');\n",
              "    }\n",
              "    (() => {\n",
              "      let quickchartButtonEl =\n",
              "        document.querySelector('#df-1e223ee7-31a3-4b29-b5ab-8fcd99e60942 button');\n",
              "      quickchartButtonEl.style.display =\n",
              "        google.colab.kernel.accessAllowed ? 'block' : 'none';\n",
              "    })();\n",
              "  </script>\n",
              "</div>\n",
              "\n",
              "  <div id=\"id_8e8b8c19-73e7-43ef-8466-97faa3944ced\">\n",
              "    <style>\n",
              "      .colab-df-generate {\n",
              "        background-color: #E8F0FE;\n",
              "        border: none;\n",
              "        border-radius: 50%;\n",
              "        cursor: pointer;\n",
              "        display: none;\n",
              "        fill: #1967D2;\n",
              "        height: 32px;\n",
              "        padding: 0 0 0 0;\n",
              "        width: 32px;\n",
              "      }\n",
              "\n",
              "      .colab-df-generate:hover {\n",
              "        background-color: #E2EBFA;\n",
              "        box-shadow: 0px 1px 2px rgba(60, 64, 67, 0.3), 0px 1px 3px 1px rgba(60, 64, 67, 0.15);\n",
              "        fill: #174EA6;\n",
              "      }\n",
              "\n",
              "      [theme=dark] .colab-df-generate {\n",
              "        background-color: #3B4455;\n",
              "        fill: #D2E3FC;\n",
              "      }\n",
              "\n",
              "      [theme=dark] .colab-df-generate:hover {\n",
              "        background-color: #434B5C;\n",
              "        box-shadow: 0px 1px 3px 1px rgba(0, 0, 0, 0.15);\n",
              "        filter: drop-shadow(0px 1px 2px rgba(0, 0, 0, 0.3));\n",
              "        fill: #FFFFFF;\n",
              "      }\n",
              "    </style>\n",
              "    <button class=\"colab-df-generate\" onclick=\"generateWithVariable('df_estado_1')\"\n",
              "            title=\"Generate code using this dataframe.\"\n",
              "            style=\"display:none;\">\n",
              "\n",
              "  <svg xmlns=\"http://www.w3.org/2000/svg\" height=\"24px\"viewBox=\"0 0 24 24\"\n",
              "       width=\"24px\">\n",
              "    <path d=\"M7,19H8.4L18.45,9,17,7.55,7,17.6ZM5,21V16.75L18.45,3.32a2,2,0,0,1,2.83,0l1.4,1.43a1.91,1.91,0,0,1,.58,1.4,1.91,1.91,0,0,1-.58,1.4L9.25,21ZM18.45,9,17,7.55Zm-12,3A5.31,5.31,0,0,0,4.9,8.1,5.31,5.31,0,0,0,1,6.5,5.31,5.31,0,0,0,4.9,4.9,5.31,5.31,0,0,0,6.5,1,5.31,5.31,0,0,0,8.1,4.9,5.31,5.31,0,0,0,12,6.5,5.46,5.46,0,0,0,6.5,12Z\"/>\n",
              "  </svg>\n",
              "    </button>\n",
              "    <script>\n",
              "      (() => {\n",
              "      const buttonEl =\n",
              "        document.querySelector('#id_8e8b8c19-73e7-43ef-8466-97faa3944ced button.colab-df-generate');\n",
              "      buttonEl.style.display =\n",
              "        google.colab.kernel.accessAllowed ? 'block' : 'none';\n",
              "\n",
              "      buttonEl.onclick = () => {\n",
              "        google.colab.notebook.generateWithVariable('df_estado_1');\n",
              "      }\n",
              "      })();\n",
              "    </script>\n",
              "  </div>\n",
              "\n",
              "    </div>\n",
              "  </div>\n"
            ],
            "application/vnd.google.colaboratory.intrinsic+json": {
              "type": "dataframe",
              "variable_name": "df_estado_1",
              "summary": "{\n  \"name\": \"df_estado_1\",\n  \"rows\": 103,\n  \"fields\": [\n    {\n      \"column\": \"p_familias_estado_1\",\n      \"properties\": {\n        \"dtype\": \"number\",\n        \"std\": 0.2929169390888439,\n        \"min\": 0.0,\n        \"max\": 1.0,\n        \"num_unique_values\": 103,\n        \"samples\": [\n          0.29411764705882354,\n          0.6568627450980392,\n          0.6078431372549019\n        ],\n        \"semantic_type\": \"\",\n        \"description\": \"\"\n      }\n    },\n    {\n      \"column\": \"p_renda_estado_1\",\n      \"properties\": {\n        \"dtype\": \"number\",\n        \"std\": 0.2816107239172152,\n        \"min\": 0.0,\n        \"max\": 1.0000000000000002,\n        \"num_unique_values\": 103,\n        \"samples\": [\n          0.22255090739221625,\n          0.5584397896033327,\n          0.5099262487716586\n        ],\n        \"semantic_type\": \"\",\n        \"description\": \"\"\n      }\n    }\n  ]\n}"
            }
          },
          "metadata": {},
          "execution_count": 146
        }
      ]
    },
    {
      "cell_type": "markdown",
      "metadata": {
        "id": "Isbh1QaDWBCH"
      },
      "source": [
        "- Estado 2"
      ]
    },
    {
      "cell_type": "code",
      "metadata": {
        "id": "WO7KrfE4uih1"
      },
      "source": [
        "total = np.sum(dados_estado_2['RDPC'].values)"
      ],
      "execution_count": null,
      "outputs": []
    },
    {
      "cell_type": "code",
      "metadata": {
        "id": "LNr76TbUmOAU"
      },
      "source": [
        "p_renda_estado_2 = np.append(np.array([0]), np.cumsum(dados_estado_2['RDPC'].values/total))"
      ],
      "execution_count": null,
      "outputs": []
    },
    {
      "cell_type": "code",
      "metadata": {
        "id": "rgicpCo9mOFU"
      },
      "source": [
        "p_familias_estado_2 = np.linspace(0, 1, len(p_renda_estado_2))"
      ],
      "execution_count": null,
      "outputs": []
    },
    {
      "cell_type": "code",
      "metadata": {
        "id": "ut3hlLOTmOJc"
      },
      "source": [
        "df_estado_2 = pd.DataFrame({'p_familias_estado_2': p_familias_estado_2,\n",
        "                            'p_renda_estado_2':p_renda_estado_2})"
      ],
      "execution_count": null,
      "outputs": []
    },
    {
      "cell_type": "markdown",
      "metadata": {
        "id": "k2mWLjtQmONO"
      },
      "source": [
        "## Curvas Brutas"
      ]
    },
    {
      "cell_type": "code",
      "metadata": {
        "colab": {
          "base_uri": "https://localhost:8080/",
          "height": 448
        },
        "id": "HneI9uSNtk1V",
        "outputId": "6099f255-2042-45de-fe4d-f08aead4d717"
      },
      "source": [
        "fig, ax = plt.subplots()\n",
        "ax.plot(df_estado_1['p_familias_estado_1'], df_estado_1['p_renda_estado_1'], label=estado_1)\n",
        "ax.plot([0, 1], [0, 1], 'r--', label='Linha Referencia')\n",
        "ax.legend()"
      ],
      "execution_count": null,
      "outputs": [
        {
          "output_type": "execute_result",
          "data": {
            "text/plain": [
              "<matplotlib.legend.Legend at 0x79fef8f02650>"
            ]
          },
          "metadata": {},
          "execution_count": 151
        },
        {
          "output_type": "display_data",
          "data": {
            "text/plain": [
              "<Figure size 640x480 with 1 Axes>"
            ],
            "image/png": "[encoded data removed]"
          },
          "metadata": {}
        }
      ]
    },
    {
      "cell_type": "code",
      "metadata": {
        "colab": {
          "base_uri": "https://localhost:8080/",
          "height": 448
        },
        "id": "aRJziBzDn3ur",
        "outputId": "afc8c3a2-cec8-4e39-8c17-653ab913917a"
      },
      "source": [
        "fig, ax = plt.subplots()\n",
        "ax.plot(df_estado_2['p_familias_estado_2'], df_estado_2['p_renda_estado_2'], label=estado_2)\n",
        "ax.plot([0, 1], [0, 1], 'r--', label='Linha Referencia')\n",
        "ax.legend()"
      ],
      "execution_count": null,
      "outputs": [
        {
          "output_type": "execute_result",
          "data": {
            "text/plain": [
              "<matplotlib.legend.Legend at 0x79fef8c7fd90>"
            ]
          },
          "metadata": {},
          "execution_count": 152
        },
        {
          "output_type": "display_data",
          "data": {
            "text/plain": [
              "<Figure size 640x480 with 1 Axes>"
            ],
            "image/png": "[encoded data removed]"
          },
          "metadata": {}
        }
      ]
    },
    {
      "cell_type": "markdown",
      "metadata": {
        "id": "x-fsOLjcn3y4"
      },
      "source": [
        "## Ajustar a curva e obter a integral"
      ]
    },
    {
      "cell_type": "markdown",
      "metadata": {
        "id": "7jAFnW3Sn325"
      },
      "source": [
        "- Curva estado 1"
      ]
    },
    {
      "cell_type": "code",
      "metadata": {
        "id": "8LpC8anfxuoc"
      },
      "source": [
        "#criando um modelo que se ajuste aos dados (descobrir a função f(x) que modela a curva)\n",
        "modelo_1 = sm.ols(formula= 'p_renda_estado_1 ~ p_familias_estado_1 + np.power(p_familias_estado_1, 2)',\n",
        "                  data= df_estado_1).fit() #você entenderão como fazer isso em uma disciplina de Machine Learning"
      ],
      "execution_count": null,
      "outputs": []
    },
    {
      "cell_type": "code",
      "metadata": {
        "id": "zW_2-aqKyvjN"
      },
      "source": [
        "#modelo_1.summary() #visualiza os dados gerados no modelo (não vamos aprofundar nisso ainda)"
      ],
      "execution_count": null,
      "outputs": []
    },
    {
      "cell_type": "code",
      "metadata": {
        "id": "xC4AYd8oRijf"
      },
      "source": [
        "df_estado_1['p_renda_pred'] = modelo_1.predict(df_estado_1)"
      ],
      "execution_count": null,
      "outputs": []
    },
    {
      "cell_type": "code",
      "metadata": {
        "colab": {
          "base_uri": "https://localhost:8080/",
          "height": 448
        },
        "id": "22X_kSwxRjL_",
        "outputId": "52e85220-148a-412e-ef88-2a8011d454da"
      },
      "source": [
        "#criando um gráfico com o modelo ideal (linha pontilhada vermelha)\n",
        "#modelo real (linha azul), que são os dados aos quais não temos uma equação\n",
        "#modelo calculado (linha laranja) que é uma equação descoberta a partir dos dados\n",
        "fig, ax = plt.subplots()\n",
        "ax.plot(df_estado_1['p_familias_estado_1'], df_estado_1['p_renda_estado_1'], label=estado_1) #dados do dataset\n",
        "ax.plot(df_estado_1['p_familias_estado_1'], df_estado_1['p_renda_pred'], label='Modelo') #modelo descoberto pelo computador\n",
        "ax.plot([0, 1], [0, 1], 'r--', label='Linha Referencia') #modelo ideal f(x) = x, ou seja, não há desiguadade\n",
        "ax.legend()"
      ],
      "execution_count": null,
      "outputs": [
        {
          "output_type": "execute_result",
          "data": {
            "text/plain": [
              "<matplotlib.legend.Legend at 0x79fef8d5cb20>"
            ]
          },
          "metadata": {},
          "execution_count": 156
        },
        {
          "output_type": "display_data",
          "data": {
            "text/plain": [
              "<Figure size 640x480 with 1 Axes>"
            ],
            "image/png": "[encoded data removed]"
          },
          "metadata": {}
        }
      ]
    },
    {
      "cell_type": "markdown",
      "metadata": {
        "id": "SlRfXBhNyvnl"
      },
      "source": [
        "- Obter integral"
      ]
    },
    {
      "cell_type": "code",
      "metadata": {
        "colab": {
          "base_uri": "https://localhost:8080/"
        },
        "id": "ruIqwzO7NrVu",
        "outputId": "b3dad8b3-f0c9-4fa5-f84f-b16b8e7eb35c"
      },
      "source": [
        "modelo_1.params"
      ],
      "execution_count": null,
      "outputs": [
        {
          "output_type": "execute_result",
          "data": {
            "text/plain": [
              "Intercept                           0.004197\n",
              "p_familias_estado_1                 0.638235\n",
              "np.power(p_familias_estado_1, 2)    0.319308\n",
              "dtype: float64"
            ]
          },
          "metadata": {},
          "execution_count": 157
        }
      ]
    },
    {
      "cell_type": "markdown",
      "source": [
        "Observe que o modelo criado resultado nos seguintes valores:\n",
        "\n",
        "\n",
        "*   **0.004197** (número que representa uma constante da equação)\n",
        "*   **p_familias_estado_1  0.638235** (equivalente à 0.638235*x)\n",
        "*   **np.power(p_familias_estado_1, 2) 0.319308** (equivalente à 0.319308*x²)\n",
        "\n",
        "Portanto o modelo ficou:\n",
        "\n",
        "\n",
        "\n",
        "*   0.319308x² + 0.638235x + 0.00419\n",
        "*   onde x = p_familias_estado_1\n",
        "\n",
        "\n",
        "\n",
        "\n",
        "\n",
        "\n",
        "\n",
        "\n",
        "\n",
        "\n",
        "\n"
      ],
      "metadata": {
        "id": "985p7L8tj4-b"
      }
    },
    {
      "cell_type": "code",
      "source": [],
      "metadata": {
        "id": "Kj9JMHmUj-sR"
      },
      "execution_count": null,
      "outputs": []
    },
    {
      "cell_type": "code",
      "metadata": {
        "id": "Sy2TuRdwxusm",
        "colab": {
          "base_uri": "https://localhost:8080/",
          "height": 39
        },
        "outputId": "47438017-988c-44ab-8337-255183b971fd"
      },
      "source": [
        "#criando a variável x\n",
        "p_familias = sp.Symbol('PercFamilias')\n",
        "p_familias"
      ],
      "execution_count": null,
      "outputs": [
        {
          "output_type": "execute_result",
          "data": {
            "text/plain": [
              "PercFamilias"
            ],
            "text/latex": "$\\displaystyle PercFamilias$"
          },
          "metadata": {},
          "execution_count": 158
        }
      ]
    },
    {
      "cell_type": "markdown",
      "source": [
        "Vamos calcular a equação de Gini. Lembrem-se:\n",
        "\n",
        "\n",
        "\n",
        "*   **x =** p_familias_estado_1 (percen. família de Alagoas)\n",
        "*  **f(x) =** x (modelo ideal de distribuição de renda\n",
        "*   **g(x) =** 0.319308x² + 0.638235x + 0.00419 (modelo que descreve a distribuição de renda de Alagoas\n",
        "*   **gini =** Área do gráfico | f(x) - g(x) |\n",
        "*   **gini =** 2*( f(x) - g(x) )dx\n",
        "\n",
        "Portanto:\n",
        "\n",
        "*  gini =  2*( x -(0.319308x² + 0.638235x + 0.00419) )dx\n",
        "\n",
        "\n",
        "\n",
        "\n",
        "\n",
        "\n",
        "\n",
        "\n",
        "\n",
        "\n"
      ],
      "metadata": {
        "id": "flTt2aOeyZyf"
      }
    },
    {
      "cell_type": "code",
      "metadata": {
        "id": "UAyalWbX0bCg",
        "colab": {
          "base_uri": "https://localhost:8080/",
          "height": 39
        },
        "outputId": "c0c7f91c-28f0-42e9-dc33-4de1f86427d0"
      },
      "source": [
        "#criando a equação que modela o sistema\n",
        "# x -(0.319308x² + 0.638235x + 0.00419)\n",
        "f_estado_1 = p_familias - ( 0.3193*p_familias**2 + 0.6382*p_familias + 0.0042)\n",
        "f_estado_1"
      ],
      "execution_count": null,
      "outputs": [
        {
          "output_type": "execute_result",
          "data": {
            "text/plain": [
              "-0.3193*PercFamilias**2 + 0.3618*PercFamilias - 0.0042"
            ],
            "text/latex": "$\\displaystyle - 0.3193 PercFamilias^{2} + 0.3618 PercFamilias - 0.0042$"
          },
          "metadata": {},
          "execution_count": 159
        }
      ]
    },
    {
      "cell_type": "code",
      "metadata": {
        "colab": {
          "base_uri": "https://localhost:8080/",
          "height": 39
        },
        "id": "JKVFx1xq0bHH",
        "outputId": "272bec41-a2e2-411e-bab7-0cd13c3d99b3"
      },
      "source": [
        "#integrando a equação de forma genérica (sem inserir os valores)\n",
        "# calculando: ( x -(0.319308x² + 0.638235x + 0.00419) )dx\n",
        "F_estado_1 = sp.integrate(f_estado_1)\n",
        "F_estado_1"
      ],
      "execution_count": null,
      "outputs": [
        {
          "output_type": "execute_result",
          "data": {
            "text/plain": [
              "-0.106433333333333*PercFamilias**3 + 0.1809*PercFamilias**2 - 0.0042*PercFamilias"
            ],
            "text/latex": "$\\displaystyle - 0.106433333333333 PercFamilias^{3} + 0.1809 PercFamilias^{2} - 0.0042 PercFamilias$"
          },
          "metadata": {},
          "execution_count": 160
        }
      ]
    },
    {
      "cell_type": "code",
      "metadata": {
        "id": "elWVcZ_s22EP"
      },
      "source": [
        "# transformar numa função em que operações podem ser realizadas\n",
        "F_estado_1 = sp.lambdify(p_familias, F_estado_1)"
      ],
      "execution_count": null,
      "outputs": []
    },
    {
      "cell_type": "markdown",
      "metadata": {
        "id": "Ucmwmf8DMipJ"
      },
      "source": [
        "- Obter o gini"
      ]
    },
    {
      "cell_type": "code",
      "metadata": {
        "colab": {
          "base_uri": "https://localhost:8080/"
        },
        "id": "ReQxOuK124Pu",
        "outputId": "e22153c9-6b3a-4e49-c85f-06f4621138d6"
      },
      "source": [
        "#calcular o valor ideal menos o valor previsto pela equação e multiplicando por 2\n",
        "#conforme a fórmula de Gini\n",
        "gini_estado1 = 2 * ( F_estado_1(1) - F_estado_1(0) )\n",
        "gini_estado1"
      ],
      "execution_count": null,
      "outputs": [
        {
          "output_type": "execute_result",
          "data": {
            "text/plain": [
              "0.140533333333334"
            ]
          },
          "metadata": {},
          "execution_count": 162
        }
      ]
    },
    {
      "cell_type": "code",
      "source": [
        "import numpy as np\n",
        "import matplotlib.pyplot as plt\n",
        "\n",
        "# Definindo os valores de x (p_familias)\n",
        "x_values = np.linspace(0, 1, 100)\n",
        "\n",
        "# Definindo as funções f(x) = x e g(x) = 0.319308x² + 0.638235x + 0.00419\n",
        "f_x = x_values\n",
        "g_x = 0.319308 * x_values**2 + 0.638235 * x_values + 0.00419\n",
        "\n",
        "# Criando o gráfico\n",
        "plt.figure(figsize=(8, 6))\n",
        "\n",
        "# Plotando as funções\n",
        "plt.plot(x_values, f_x, label='f(x) = x', color='blue')\n",
        "plt.plot(x_values, g_x, label='g(x) = 0.319308x² + 0.638235x + 0.00419', color='red')\n",
        "\n",
        "# Preenchendo a área entre as curvas\n",
        "plt.fill_between(x_values, f_x, g_x, color='orange', alpha=0.5, label='Área calculada pela integral', where=(g_x <= f_x))\n",
        "\n",
        "# Configurações adicionais do gráfico\n",
        "plt.xlabel('PercFamilias')\n",
        "plt.ylabel('Valor da função')\n",
        "plt.title('Gráfico das funções f(x) = x e g(x) = 0.319308x² + 0.638235x + 0.00419')\n",
        "plt.legend()\n",
        "\n",
        "# Exibindo o gráfico\n",
        "plt.grid(True)\n",
        "plt.show()\n"
      ],
      "metadata": {
        "colab": {
          "base_uri": "https://localhost:8080/",
          "height": 565
        },
        "id": "XSk71B2_uqaG",
        "outputId": "febe2bee-a252-49c7-897c-40ccb01d9842"
      },
      "execution_count": null,
      "outputs": [
        {
          "output_type": "display_data",
          "data": {
            "text/plain": [
              "<Figure size 800x600 with 1 Axes>"
            ],
            "image/png": "[encoded data removed]"
          },
          "metadata": {}
        }
      ]
    },
    {
      "cell_type": "markdown",
      "source": [
        "Um índice de Gini de 0.14 sugere uma distribuição de renda relativamente igualitária em comparação com uma distribuição perfeitamente igualitária, onde o índice de Gini seria 0.\n",
        "\n",
        "Em uma escala de 0 a 1, onde 0 representa perfeita igualdade (cada indivíduo tem a mesma renda) e 1 representa perfeita desigualdade (uma pessoa tem toda a renda), um valor de 0.14 indica que a desigualdade na distribuição de renda é relativamente baixa. Isso significa que a maior parte da população tem uma renda próxima à média, e há menos disparidade entre os níveis de renda dos indivíduos.\n",
        "\n",
        "Em termos práticos, uma distribuição de renda com um índice de Gini de 0.14 sugere que há menos diferença entre os rendimentos dos indivíduos, o que pode indicar um maior acesso a oportunidades econômicas e uma distribuição mais equitativa de recursos. No entanto, outras medidas e fatores também devem ser considerados para uma compreensão completa da distribuição de renda em uma determinada população."
      ],
      "metadata": {
        "id": "OP8PDgCZ2WhQ"
      }
    },
    {
      "cell_type": "markdown",
      "metadata": {
        "id": "qoksalOx0bSZ"
      },
      "source": [
        "- Estado 2"
      ]
    },
    {
      "cell_type": "code",
      "metadata": {
        "id": "SggSQ_XExuv7"
      },
      "source": [
        "modelo_2 = sm.ols(formula= 'p_renda_estado_2 ~ p_familias_estado_2 + np.power(p_familias_estado_2, 2)',\n",
        "                  data= df_estado_2).fit()"
      ],
      "execution_count": null,
      "outputs": []
    },
    {
      "cell_type": "code",
      "metadata": {
        "id": "ltXEeB670dVO"
      },
      "source": [
        "#modelo_2.summary()"
      ],
      "execution_count": null,
      "outputs": []
    },
    {
      "cell_type": "code",
      "metadata": {
        "id": "tazOtGwSUmfn"
      },
      "source": [
        "df_estado_2['p_renda_pred'] = modelo_2.predict(df_estado_2)"
      ],
      "execution_count": null,
      "outputs": []
    },
    {
      "cell_type": "code",
      "metadata": {
        "colab": {
          "base_uri": "https://localhost:8080/",
          "height": 448
        },
        "id": "Jq0UFXJAUfEm",
        "outputId": "85b4054c-5811-4e31-b98d-967c2aa7f962"
      },
      "source": [
        "fig, ax = plt.subplots()\n",
        "ax.plot(df_estado_2['p_familias_estado_2'], df_estado_2['p_renda_estado_2'], label=estado_2)\n",
        "ax.plot(df_estado_2['p_familias_estado_2'], df_estado_2['p_renda_pred'], label='Modelo')\n",
        "ax.plot([0, 1], [0, 1], 'r--', label='Linha Referencia')\n",
        "ax.legend()"
      ],
      "execution_count": null,
      "outputs": [
        {
          "output_type": "execute_result",
          "data": {
            "text/plain": [
              "<matplotlib.legend.Legend at 0x79fef8c4eef0>"
            ]
          },
          "metadata": {},
          "execution_count": 167
        },
        {
          "output_type": "display_data",
          "data": {
            "text/plain": [
              "<Figure size 640x480 with 1 Axes>"
            ],
            "image/png": "[encoded data removed]"
          },
          "metadata": {}
        }
      ]
    },
    {
      "cell_type": "markdown",
      "metadata": {
        "id": "55sI-eSe0dZw"
      },
      "source": [
        "- Obter integral"
      ]
    },
    {
      "cell_type": "code",
      "metadata": {
        "colab": {
          "base_uri": "https://localhost:8080/"
        },
        "id": "WUnQ50flNWnY",
        "outputId": "322ecd0d-916f-4fda-f9d7-7bca05dabff1"
      },
      "source": [
        "modelo_2.params"
      ],
      "execution_count": null,
      "outputs": [
        {
          "output_type": "execute_result",
          "data": {
            "text/plain": [
              "Intercept                          -0.000557\n",
              "p_familias_estado_2                 0.637063\n",
              "np.power(p_familias_estado_2, 2)    0.335257\n",
              "dtype: float64"
            ]
          },
          "metadata": {},
          "execution_count": 168
        }
      ]
    },
    {
      "cell_type": "code",
      "metadata": {
        "id": "cjWQenrF0ddd"
      },
      "source": [
        "p_familias = sp.Symbol('PercFamilias')"
      ],
      "execution_count": null,
      "outputs": []
    },
    {
      "cell_type": "code",
      "metadata": {
        "id": "faB-ZLd-0diA"
      },
      "source": [
        "f_estado_2 = p_familias - 0.0010 - 0.6506*p_familias - 0.3113*p_familias**2"
      ],
      "execution_count": null,
      "outputs": []
    },
    {
      "cell_type": "code",
      "metadata": {
        "id": "8u8vGReV0dlE",
        "colab": {
          "base_uri": "https://localhost:8080/",
          "height": 39
        },
        "outputId": "2a64c0f1-d971-40a2-e425-bdb0b68de2d7"
      },
      "source": [
        "F_estado_2 = sp.integrate(f_estado_2)\n",
        "F_estado_2"
      ],
      "execution_count": null,
      "outputs": [
        {
          "output_type": "execute_result",
          "data": {
            "text/plain": [
              "-0.103766666666667*PercFamilias**3 + 0.1747*PercFamilias**2 - 0.001*PercFamilias"
            ],
            "text/latex": "$\\displaystyle - 0.103766666666667 PercFamilias^{3} + 0.1747 PercFamilias^{2} - 0.001 PercFamilias$"
          },
          "metadata": {},
          "execution_count": 171
        }
      ]
    },
    {
      "cell_type": "code",
      "metadata": {
        "id": "xXHCuL3h0dn2"
      },
      "source": [
        "# transformar numa função em que operações podem ser realizadas\n",
        "F_estado_2 = sp.lambdify(p_familias, F_estado_2)"
      ],
      "execution_count": null,
      "outputs": []
    },
    {
      "cell_type": "markdown",
      "metadata": {
        "id": "RzSQXVWgOU6A"
      },
      "source": [
        "- Obter o gini"
      ]
    },
    {
      "cell_type": "code",
      "metadata": {
        "colab": {
          "base_uri": "https://localhost:8080/"
        },
        "id": "oigI4tr_OU_f",
        "outputId": "2d38c4f7-f9f1-4d8c-aa8a-0afa8c7b38a1"
      },
      "source": [
        "gini_estado2 = 2 * ( F_estado_2(1) - F_estado_2(0) )\n",
        "gini_estado2"
      ],
      "execution_count": null,
      "outputs": [
        {
          "output_type": "execute_result",
          "data": {
            "text/plain": [
              "0.13986666666666597"
            ]
          },
          "metadata": {},
          "execution_count": 173
        }
      ]
    },
    {
      "cell_type": "markdown",
      "metadata": {
        "id": "H9G-N_3lONPP"
      },
      "source": [
        "## Uso de função pronta"
      ]
    },
    {
      "cell_type": "markdown",
      "metadata": {
        "id": "83qQU86KONVD"
      },
      "source": [
        "Implentação encontrada em: https://github.com/oliviaguest/gini/blob/master/gini.py"
      ]
    },
    {
      "cell_type": "code",
      "metadata": {
        "id": "mBRnHlP0ONZX"
      },
      "source": [
        "def gini(array):\n",
        "    \"\"\"Calculate the Gini coefficient of a numpy array.\"\"\"\n",
        "    # based on bottom eq:\n",
        "    # http://www.statsdirect.com/help/generatedimages/equations/equation154.svg\n",
        "    # from:\n",
        "    # http://www.statsdirect.com/help/default.htm#nonparametric_methods/gini.htm\n",
        "    # All values are treated equally, arrays must be 1d:\n",
        "    array = array.flatten()\n",
        "    if np.amin(array) < 0:\n",
        "        # Values cannot be negative:\n",
        "        array -= np.amin(array)\n",
        "    # Values cannot be 0:\n",
        "    array += 0.0000001\n",
        "    # Values must be sorted:\n",
        "    array = np.sort(array)\n",
        "    # Index per array element:\n",
        "    index = np.arange(1,array.shape[0]+1)\n",
        "    # Number of array elements:\n",
        "    n = array.shape[0]\n",
        "    # Gini coefficient:\n",
        "    return ((np.sum((2 * index - n  - 1) * array)) / (n * np.sum(array)))"
      ],
      "execution_count": null,
      "outputs": []
    },
    {
      "cell_type": "code",
      "metadata": {
        "colab": {
          "base_uri": "https://localhost:8080/"
        },
        "id": "13sgEpw9PVlm",
        "outputId": "3070f23c-1991-455d-be20-c9de2c8400e9"
      },
      "source": [
        "gini(dados_estado_1['RDPC'].values), gini_estado1"
      ],
      "execution_count": null,
      "outputs": [
        {
          "output_type": "execute_result",
          "data": {
            "text/plain": [
              "(0.14082322758568558, 0.140533333333334)"
            ]
          },
          "metadata": {},
          "execution_count": 175
        }
      ]
    },
    {
      "cell_type": "code",
      "metadata": {
        "colab": {
          "base_uri": "https://localhost:8080/"
        },
        "id": "3oCPkwLXPVrv",
        "outputId": "e4a4c020-e012-40d3-f0bc-546970b64a8f"
      },
      "source": [
        "gini(dados_estado_2['RDPC'].values), gini_estado2"
      ],
      "execution_count": null,
      "outputs": [
        {
          "output_type": "execute_result",
          "data": {
            "text/plain": [
              "(0.14058951293827596, 0.13986666666666597)"
            ]
          },
          "metadata": {},
          "execution_count": 176
        }
      ]
    }
  ]
}