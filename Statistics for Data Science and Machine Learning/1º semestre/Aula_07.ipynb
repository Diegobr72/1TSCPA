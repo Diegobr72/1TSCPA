{
  "nbformat": 4,
  "nbformat_minor": 0,
  "metadata": {
    "colab": {
      "provenance": []
    },
    "kernelspec": {
      "name": "python3",
      "display_name": "Python 3"
    },
    "language_info": {
      "name": "python"
    }
  },
  "cells": [
    {
      "cell_type": "code",
      "execution_count": null,
      "metadata": {
        "colab": {
          "base_uri": "https://localhost:8080/"
        },
        "id": "nk8xLIMbj2IC",
        "outputId": "e4699a07-ecc4-4ac8-da89-58358141c7b4"
      },
      "outputs": [
        {
          "output_type": "stream",
          "name": "stdout",
          "text": [
            "26.05 por cento\n"
          ]
        }
      ],
      "source": [
        "#probabilidade de jogar um dado para cima 8 vezes e cair \"um\" duas vezes\n",
        "from math import comb\n",
        "import scipy.stats as stats\n",
        "n = 8 #número de lances\n",
        "k = 2 #tentativas com sucesso\n",
        "p = 1/6 #1 chance em 6 possíveis de lançar um dado e cair \"um\"\n",
        "PX = 100*comb(n, k)*(p**k)*(1-p)**(n-k)\n",
        "print(f\"{PX:.2f} por cento\")"
      ]
    },
    {
      "cell_type": "code",
      "source": [
        "#probabilidade de jogar uma moeda 3 vezes e cair \"cara\" duas vezes\n",
        "n = 3 #número de lances\n",
        "k = 2 #número de tentativas com sucesso\n",
        "p = 0.5 #1 chance em 2 (ou seja, 1/2 = 0.5 de chances de cair \"cara\")\n",
        "PX = comb(n,k)*(p**k)*(1-p)**(n-k)\n",
        "print(PX)"
      ],
      "metadata": {
        "colab": {
          "base_uri": "https://localhost:8080/"
        },
        "id": "Oojs_6gOlnoE",
        "outputId": "68387c69-a8c9-4b2a-d922-39b133cbf67f"
      },
      "execution_count": null,
      "outputs": [
        {
          "output_type": "stream",
          "name": "stdout",
          "text": [
            "0.375\n"
          ]
        }
      ]
    },
    {
      "cell_type": "markdown",
      "source": [
        "Refazendo os exemplos anteriores com a biblioteca scipy"
      ],
      "metadata": {
        "id": "RyiirJqN1tFl"
      }
    },
    {
      "cell_type": "code",
      "source": [
        "import scipy.stats as stats\n",
        "n = 8\n",
        "k = 2\n",
        "p = 1/6\n",
        "print(stats.binom.pmf(k, n, p))#probability mass function"
      ],
      "metadata": {
        "colab": {
          "base_uri": "https://localhost:8080/"
        },
        "id": "sKRV37OPnx2A",
        "outputId": "64a8e281-6900-49e0-aa6e-4ff3b3ae858b"
      },
      "execution_count": null,
      "outputs": [
        {
          "output_type": "stream",
          "name": "stdout",
          "text": [
            "0.26047620408474326\n"
          ]
        }
      ]
    },
    {
      "cell_type": "code",
      "source": [
        "n = 3\n",
        "k = 2\n",
        "p = 0.5\n",
        "print(stats.binom.pmf(k, n, p))"
      ],
      "metadata": {
        "colab": {
          "base_uri": "https://localhost:8080/"
        },
        "id": "xFGIbBrJqQzA",
        "outputId": "12d999a5-e878-4822-ee41-fc00e256812b"
      },
      "execution_count": null,
      "outputs": [
        {
          "output_type": "stream",
          "name": "stdout",
          "text": [
            "0.3750000000000001\n"
          ]
        }
      ]
    },
    {
      "cell_type": "code",
      "source": [
        "'''\n",
        "Uma empresa de fertilizantes tem um percentual de sucesso de seu fertilizante\n",
        "de 60%. Qual a probabilidade de em 100 fazendas:\n",
        "a) 80% delas ter sucesso na fertilização?\n",
        "b) 97% delas ter sucesso na fertilização?\n",
        "'''\n",
        "#Letra A\n",
        "n = 100\n",
        "k = 80\n",
        "p = 0.6\n",
        "PX = PX = comb(n,k)*(p**k)*(1-p)**(n-k)\n",
        "print(PX)\n",
        "\n",
        "#Letra B\n",
        "n = 100\n",
        "k = 97\n",
        "p = 0.6\n",
        "PX = PX = comb(n,k)*(p**k)*(1-p)**(n-k)\n",
        "print(PX)\n"
      ],
      "metadata": {
        "id": "So8oeYrQrFhC",
        "colab": {
          "base_uri": "https://localhost:8080/"
        },
        "outputId": "5060e2c6-f1d4-4928-f927-499f10fdce60"
      },
      "execution_count": null,
      "outputs": [
        {
          "output_type": "stream",
          "name": "stdout",
          "text": [
            "1.053055286238778e-05\n",
            "3.130122116146996e-18\n"
          ]
        }
      ]
    },
    {
      "cell_type": "code",
      "source": [
        "'''\n",
        "Uma empresa de e-commerce deseja estimar a probabilidade de que um visitante\n",
        "faça uma compra após receber um e-mail promocional. A taxa média de conversão\n",
        "é de 5%, ou seja, 5% dos visitantes fazem uma compra. A empresa está planejando\n",
        "uma nova campanha de e-mail marketing e deseja saber qual a probabilidade de que,\n",
        "em 1000 destinatários do e-mail promocional, PELO MENOS 50 façam uma compra.\n",
        "'''\n",
        "\n",
        "'''\n",
        "Resposta: neste caso, diferentemente dos exemplos anteriores,  não temos o\n",
        "número EXATO de ocorrências de sucesso, ou seja, temos que calcular a probabili-\n",
        "dade de 50 comprarem, depois 51 comprarem, depois 52 comprarem...até 1000\n",
        "comprarem. Neste exemplo, seria melhor calcular a probabilidade de 0 até 49\n",
        "clientes NÃO comprarem, depois calculamos a diferença entre 100% e os que NÃO\n",
        "compraram, para sabermos a probabilidade de que pelo menos 50 ou mais comprem.\n",
        "Quando queremos uma probabilidade binomial exata de ocorrência de sucesso, usamos\n",
        "o stats.binom.pmf. Já quando queremos a probabilidade acumulada de n sucessos,\n",
        "ou seja, não temos um número exato, utilizamos o stats.binom.cdf\n",
        "utilizamos\n",
        "'''\n",
        "n = 1000\n",
        "p = 0.05\n",
        "k = 49\n",
        "probab_nao_comprar = stats.binom.cdf(k, n, p)#Cumulative distribution function\n",
        "print( 1 - probab_nao_comprar)"
      ],
      "metadata": {
        "colab": {
          "base_uri": "https://localhost:8080/"
        },
        "id": "KIEnjVIy3Vau",
        "outputId": "c3f5f3e4-8602-483d-bf4f-d9e6290b7d7e"
      },
      "execution_count": null,
      "outputs": [
        {
          "output_type": "stream",
          "name": "stdout",
          "text": [
            "0.5202589429126758\n"
          ]
        }
      ]
    },
    {
      "cell_type": "code",
      "source": [],
      "metadata": {
        "id": "KQ45oeVI6ekR"
      },
      "execution_count": null,
      "outputs": []
    }
  ]
}